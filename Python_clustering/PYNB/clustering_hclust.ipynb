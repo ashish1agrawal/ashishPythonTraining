{
 "cells": [
  {
   "cell_type": "markdown",
   "metadata": {},
   "source": [
    "# Hierarchial Clustering\n",
    "## Kumar Rahul\n",
    "\n",
    "We will use beer data to perform hierarchial clustering using seaborn packages `clustermap`. This function derives some features from `scipy` package.\n",
    "\n",
    "Refer to http://docs.scipy.org/doc/scipy/reference/generated/scipy.cluster.hierarchy.linkage.html for refernce to available methods on hierarchial clustering.\n",
    "\n",
    "The other option to achieve hierarchial clustering is to use `AgglomerativeClustering` from `sklearn.cluster`. More about it: http://scikit-learn.org/stable/modules/generated/sklearn.cluster.AgglomerativeClustering.html#sklearn.cluster.AgglomerativeClustering"
   ]
  },
  {
   "cell_type": "code",
   "execution_count": 1,
   "metadata": {
    "Rmd_chunk_options": "echo=FALSE, message=FALSE",
    "autoscroll": false
   },
   "outputs": [],
   "source": [
    "import pandas as pd\n",
    "import seaborn as sn"
   ]
  },
  {
   "cell_type": "markdown",
   "metadata": {},
   "source": [
    "\n",
    "## 1. Preparing Data\n",
    "\n",
    "Read data from a specified location\n"
   ]
  },
  {
   "cell_type": "code",
   "execution_count": 3,
   "metadata": {},
   "outputs": [],
   "source": [
    "from IPython.core.interactiveshell import InteractiveShell\n",
    "InteractiveShell.ast_node_interactivity = \"all\""
   ]
  },
  {
   "cell_type": "code",
   "execution_count": 4,
   "metadata": {
    "autoscroll": false
   },
   "outputs": [
    {
     "data": {
      "text/html": [
       "<div>\n",
       "<style scoped>\n",
       "    .dataframe tbody tr th:only-of-type {\n",
       "        vertical-align: middle;\n",
       "    }\n",
       "\n",
       "    .dataframe tbody tr th {\n",
       "        vertical-align: top;\n",
       "    }\n",
       "\n",
       "    .dataframe thead th {\n",
       "        text-align: right;\n",
       "    }\n",
       "</style>\n",
       "<table border=\"1\" class=\"dataframe\">\n",
       "  <thead>\n",
       "    <tr style=\"text-align: right;\">\n",
       "      <th></th>\n",
       "      <th>id</th>\n",
       "      <th>beer</th>\n",
       "      <th>cal</th>\n",
       "      <th>sod</th>\n",
       "      <th>alc</th>\n",
       "      <th>cost</th>\n",
       "    </tr>\n",
       "  </thead>\n",
       "  <tbody>\n",
       "    <tr>\n",
       "      <th>0</th>\n",
       "      <td>1</td>\n",
       "      <td>Budweiser</td>\n",
       "      <td>144</td>\n",
       "      <td>15</td>\n",
       "      <td>4.7</td>\n",
       "      <td>0.43</td>\n",
       "    </tr>\n",
       "    <tr>\n",
       "      <th>1</th>\n",
       "      <td>2</td>\n",
       "      <td>Schlitz</td>\n",
       "      <td>151</td>\n",
       "      <td>19</td>\n",
       "      <td>4.9</td>\n",
       "      <td>0.43</td>\n",
       "    </tr>\n",
       "    <tr>\n",
       "      <th>2</th>\n",
       "      <td>3</td>\n",
       "      <td>Lowenbrau</td>\n",
       "      <td>157</td>\n",
       "      <td>15</td>\n",
       "      <td>4.9</td>\n",
       "      <td>0.48</td>\n",
       "    </tr>\n",
       "    <tr>\n",
       "      <th>3</th>\n",
       "      <td>4</td>\n",
       "      <td>Kronenbourg</td>\n",
       "      <td>170</td>\n",
       "      <td>7</td>\n",
       "      <td>5.2</td>\n",
       "      <td>0.73</td>\n",
       "    </tr>\n",
       "    <tr>\n",
       "      <th>4</th>\n",
       "      <td>5</td>\n",
       "      <td>Heineken</td>\n",
       "      <td>152</td>\n",
       "      <td>11</td>\n",
       "      <td>5.0</td>\n",
       "      <td>0.77</td>\n",
       "    </tr>\n",
       "  </tbody>\n",
       "</table>\n",
       "</div>"
      ],
      "text/plain": [
       "   id         beer  cal  sod  alc  cost\n",
       "0   1    Budweiser  144   15  4.7  0.43\n",
       "1   2      Schlitz  151   19  4.9  0.43\n",
       "2   3    Lowenbrau  157   15  4.9  0.48\n",
       "3   4  Kronenbourg  170    7  5.2  0.73\n",
       "4   5     Heineken  152   11  5.0  0.77"
      ]
     },
     "execution_count": 4,
     "metadata": {},
     "output_type": "execute_result"
    }
   ],
   "source": [
    "raw_df = pd.read_csv( \"C:/Users/Administrator/Desktop/Data_Science_with_Python_and_R_ashish/Code files/Dataset/Hclust_Beer data.csv\", \n",
    "                        sep = ',', na_values = ['', ' '])\n",
    "\n",
    "raw_df.columns = raw_df.columns.str.lower().str.replace(' ', '_')\n",
    "raw_df.head()"
   ]
  },
  {
   "cell_type": "markdown",
   "metadata": {},
   "source": [
    "\n",
    "## 2. Extract Features and Standardize\n",
    "\n",
    "Two ways to extract the features:\n",
    "\n",
    "> * use `pd.filter` and pass the list of features to extract for scaling\n",
    "* Use `pd.drop` and pass the list of features which need not be extracted\n",
    "\n",
    "The feature can also be extracted by using `dataframeName[[<name of features>]]` \n"
   ]
  },
  {
   "cell_type": "code",
   "execution_count": 5,
   "metadata": {
    "autoscroll": false
   },
   "outputs": [],
   "source": [
    "#feature_df = raw_df[['cal', 'sod', 'alc', 'cost']]\n",
    "\n",
    "feature_df = raw_df.drop({'id','beer'}, axis =1)\n",
    "col_names = feature_df.columns\n",
    "#col_names\n",
    "\n",
    "row_index = raw_df.iloc[:,1]\n",
    "#row_index"
   ]
  },
  {
   "cell_type": "code",
   "execution_count": 6,
   "metadata": {
    "autoscroll": false
   },
   "outputs": [],
   "source": [
    "from sklearn.preprocessing import StandardScaler\n",
    "scaler = StandardScaler()\n",
    "\n",
    "feature_scaled_df = pd.DataFrame(scaler.fit_transform( feature_df ))\n",
    "\n",
    "feature_scaled_df.columns = col_names\n",
    "feature_scaled_df.index = row_index "
   ]
  },
  {
   "cell_type": "markdown",
   "metadata": {
    "autoscroll": false,
    "collapsed": true
   },
   "source": [
    "Use `rename` function, in case renaming of a specific column or index is required"
   ]
  },
  {
   "cell_type": "code",
   "execution_count": 6,
   "metadata": {
    "autoscroll": false
   },
   "outputs": [],
   "source": [
    "#feature_scaled_df.rename(index={'Budweiser':'Bud'}, inplace=True)"
   ]
  },
  {
   "cell_type": "markdown",
   "metadata": {},
   "source": [
    "The referening of a row or column can be changed by using the below code chunk. Uncomment and change the values within `iloc` to understand how referencing works:"
   ]
  },
  {
   "cell_type": "code",
   "execution_count": 7,
   "metadata": {},
   "outputs": [],
   "source": [
    "#ref_row_col = raw_df.iloc[:,:]\n",
    "#ref_row_col"
   ]
  },
  {
   "cell_type": "code",
   "execution_count": 8,
   "metadata": {
    "autoscroll": false
   },
   "outputs": [
    {
     "data": {
      "text/html": [
       "<div>\n",
       "<style scoped>\n",
       "    .dataframe tbody tr th:only-of-type {\n",
       "        vertical-align: middle;\n",
       "    }\n",
       "\n",
       "    .dataframe tbody tr th {\n",
       "        vertical-align: top;\n",
       "    }\n",
       "\n",
       "    .dataframe thead th {\n",
       "        text-align: right;\n",
       "    }\n",
       "</style>\n",
       "<table border=\"1\" class=\"dataframe\">\n",
       "  <thead>\n",
       "    <tr style=\"text-align: right;\">\n",
       "      <th></th>\n",
       "      <th>cal</th>\n",
       "      <th>sod</th>\n",
       "      <th>alc</th>\n",
       "      <th>cost</th>\n",
       "    </tr>\n",
       "    <tr>\n",
       "      <th>beer</th>\n",
       "      <th></th>\n",
       "      <th></th>\n",
       "      <th></th>\n",
       "      <th></th>\n",
       "    </tr>\n",
       "  </thead>\n",
       "  <tbody>\n",
       "    <tr>\n",
       "      <th>Budweiser</th>\n",
       "      <td>0.393336</td>\n",
       "      <td>0.007795</td>\n",
       "      <td>0.351095</td>\n",
       "      <td>-0.470541</td>\n",
       "    </tr>\n",
       "    <tr>\n",
       "      <th>Schlitz</th>\n",
       "      <td>0.630693</td>\n",
       "      <td>0.631369</td>\n",
       "      <td>0.621168</td>\n",
       "      <td>-0.470541</td>\n",
       "    </tr>\n",
       "    <tr>\n",
       "      <th>Lowenbrau</th>\n",
       "      <td>0.834143</td>\n",
       "      <td>0.007795</td>\n",
       "      <td>0.621168</td>\n",
       "      <td>-0.114071</td>\n",
       "    </tr>\n",
       "    <tr>\n",
       "      <th>Kronenbourg</th>\n",
       "      <td>1.274950</td>\n",
       "      <td>-1.239354</td>\n",
       "      <td>1.026278</td>\n",
       "      <td>1.668282</td>\n",
       "    </tr>\n",
       "    <tr>\n",
       "      <th>Heineken</th>\n",
       "      <td>0.664602</td>\n",
       "      <td>-0.615780</td>\n",
       "      <td>0.756205</td>\n",
       "      <td>1.953459</td>\n",
       "    </tr>\n",
       "    <tr>\n",
       "      <th>Old Mil</th>\n",
       "      <td>0.427244</td>\n",
       "      <td>1.254943</td>\n",
       "      <td>0.216058</td>\n",
       "      <td>-1.539953</td>\n",
       "    </tr>\n",
       "    <tr>\n",
       "      <th>Augsburger</th>\n",
       "      <td>1.444491</td>\n",
       "      <td>1.410837</td>\n",
       "      <td>1.431387</td>\n",
       "      <td>-0.684423</td>\n",
       "    </tr>\n",
       "    <tr>\n",
       "      <th>Strohs</th>\n",
       "      <td>0.562877</td>\n",
       "      <td>1.878518</td>\n",
       "      <td>0.351095</td>\n",
       "      <td>-0.541835</td>\n",
       "    </tr>\n",
       "    <tr>\n",
       "      <th>Miller lite</th>\n",
       "      <td>-1.132535</td>\n",
       "      <td>-0.771673</td>\n",
       "      <td>-0.189051</td>\n",
       "      <td>-0.470541</td>\n",
       "    </tr>\n",
       "    <tr>\n",
       "      <th>Bud light</th>\n",
       "      <td>-0.657820</td>\n",
       "      <td>-1.083460</td>\n",
       "      <td>-0.999270</td>\n",
       "      <td>-0.399247</td>\n",
       "    </tr>\n",
       "    <tr>\n",
       "      <th>Coors</th>\n",
       "      <td>0.257703</td>\n",
       "      <td>0.475475</td>\n",
       "      <td>0.216058</td>\n",
       "      <td>-0.399247</td>\n",
       "    </tr>\n",
       "    <tr>\n",
       "      <th>Coors lite</th>\n",
       "      <td>-1.030811</td>\n",
       "      <td>0.007795</td>\n",
       "      <td>-0.459124</td>\n",
       "      <td>-0.327953</td>\n",
       "    </tr>\n",
       "    <tr>\n",
       "      <th>Michelob light</th>\n",
       "      <td>0.088161</td>\n",
       "      <td>-0.615780</td>\n",
       "      <td>-0.324088</td>\n",
       "      <td>0.028518</td>\n",
       "    </tr>\n",
       "    <tr>\n",
       "      <th>Becks</th>\n",
       "      <td>0.596785</td>\n",
       "      <td>0.631369</td>\n",
       "      <td>0.351095</td>\n",
       "      <td>1.882165</td>\n",
       "    </tr>\n",
       "    <tr>\n",
       "      <th>Kirin</th>\n",
       "      <td>0.562877</td>\n",
       "      <td>-1.395248</td>\n",
       "      <td>0.756205</td>\n",
       "      <td>2.096047</td>\n",
       "    </tr>\n",
       "    <tr>\n",
       "      <th>Pabst</th>\n",
       "      <td>-2.183691</td>\n",
       "      <td>0.007795</td>\n",
       "      <td>-2.889782</td>\n",
       "      <td>-0.827012</td>\n",
       "    </tr>\n",
       "    <tr>\n",
       "      <th>Hamms</th>\n",
       "      <td>0.122070</td>\n",
       "      <td>0.631369</td>\n",
       "      <td>-0.054015</td>\n",
       "      <td>-0.470541</td>\n",
       "    </tr>\n",
       "    <tr>\n",
       "      <th>Heilemans</th>\n",
       "      <td>0.393336</td>\n",
       "      <td>1.410837</td>\n",
       "      <td>0.621168</td>\n",
       "      <td>-0.470541</td>\n",
       "    </tr>\n",
       "    <tr>\n",
       "      <th>Olympia</th>\n",
       "      <td>-2.048058</td>\n",
       "      <td>-1.395248</td>\n",
       "      <td>-2.079563</td>\n",
       "      <td>-0.256659</td>\n",
       "    </tr>\n",
       "    <tr>\n",
       "      <th>Schilitz lite</th>\n",
       "      <td>-1.200352</td>\n",
       "      <td>-1.239354</td>\n",
       "      <td>-0.324088</td>\n",
       "      <td>-0.185365</td>\n",
       "    </tr>\n",
       "  </tbody>\n",
       "</table>\n",
       "</div>"
      ],
      "text/plain": [
       "                     cal       sod       alc      cost\n",
       "beer                                                  \n",
       "Budweiser       0.393336  0.007795  0.351095 -0.470541\n",
       "Schlitz         0.630693  0.631369  0.621168 -0.470541\n",
       "Lowenbrau       0.834143  0.007795  0.621168 -0.114071\n",
       "Kronenbourg     1.274950 -1.239354  1.026278  1.668282\n",
       "Heineken        0.664602 -0.615780  0.756205  1.953459\n",
       "Old Mil         0.427244  1.254943  0.216058 -1.539953\n",
       "Augsburger      1.444491  1.410837  1.431387 -0.684423\n",
       "Strohs          0.562877  1.878518  0.351095 -0.541835\n",
       "Miller lite    -1.132535 -0.771673 -0.189051 -0.470541\n",
       "Bud light      -0.657820 -1.083460 -0.999270 -0.399247\n",
       "Coors           0.257703  0.475475  0.216058 -0.399247\n",
       "Coors lite     -1.030811  0.007795 -0.459124 -0.327953\n",
       "Michelob light  0.088161 -0.615780 -0.324088  0.028518\n",
       "Becks           0.596785  0.631369  0.351095  1.882165\n",
       "Kirin           0.562877 -1.395248  0.756205  2.096047\n",
       "Pabst          -2.183691  0.007795 -2.889782 -0.827012\n",
       "Hamms           0.122070  0.631369 -0.054015 -0.470541\n",
       "Heilemans       0.393336  1.410837  0.621168 -0.470541\n",
       "Olympia        -2.048058 -1.395248 -2.079563 -0.256659\n",
       "Schilitz lite  -1.200352 -1.239354 -0.324088 -0.185365"
      ]
     },
     "execution_count": 8,
     "metadata": {},
     "output_type": "execute_result"
    }
   ],
   "source": [
    "feature_scaled_df"
   ]
  },
  {
   "cell_type": "markdown",
   "metadata": {},
   "source": [
    "\n",
    "## 3. Cluster and Visualize\n",
    "\n",
    "Refer to http://docs.scipy.org/doc/scipy/reference/generated/scipy.cluster.hierarchy.linkage.html for refernce to available methods, metric.\n",
    "\n",
    "Rather than standardizing the values above We could have set `z_score` parameter inside the `clustermap` to 1 for standardizing the column values.\n",
    "\n",
    "The other option to achieve hierarchial clustering is to use `AgglomerativeClustering` from `sklearn.cluster`. More about it: \n",
    "http://scikit-learn.org/stable/modules/generated/sklearn.cluster.AgglomerativeClustering.html#sklearn.cluster.AgglomerativeClustering"
   ]
  },
  {
   "cell_type": "code",
   "execution_count": 7,
   "metadata": {
    "autoscroll": false
   },
   "outputs": [
    {
     "data": {
      "text/plain": [
       "<seaborn.matrix.ClusterGrid at 0xaf81a90>"
      ]
     },
     "execution_count": 7,
     "metadata": {},
     "output_type": "execute_result"
    },
    {
     "data": {
      "image/png": "[encoded data removed]",
      "text/plain": [
       "<matplotlib.figure.Figure at 0xaf81b00>"
      ]
     },
     "metadata": {},
     "output_type": "display_data"
    }
   ],
   "source": [
    "sn.clustermap(feature_scaled_df, method = 'complete', metric = 'euclidean', \n",
    "              row_cluster=True,col_cluster = False,\n",
    "              linewidths=.5,figsize =(15,15))"
   ]
  },
  {
   "cell_type": "code",
   "execution_count": null,
   "metadata": {},
   "outputs": [],
   "source": []
  }
 ],
 "metadata": {
  "Rmd_header": {
   "author": "Kumar Rahul",
   "date": "6/9/2017",
   "output": "word_document",
   "title": "Hierarchical Clustering"
  },
  "kernelspec": {
   "display_name": "Python 3",
   "language": "python",
   "name": "python3"
  },
  "language_info": {
   "codemirror_mode": {
    "name": "ipython",
    "version": 3
   },
   "file_extension": ".py",
   "mimetype": "text/x-python",
   "name": "python",
   "nbconvert_exporter": "python",
   "pygments_lexer": "ipython3",
   "version": "3.6.4"
  }
 },
 "nbformat": 4,
 "nbformat_minor": 1
}
