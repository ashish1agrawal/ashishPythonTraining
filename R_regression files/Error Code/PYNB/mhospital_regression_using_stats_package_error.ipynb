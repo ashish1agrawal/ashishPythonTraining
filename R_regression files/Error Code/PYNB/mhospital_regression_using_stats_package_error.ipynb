{
 "cells": [
  {
   "cell_type": "markdown",
   "metadata": {},
   "source": [
    "\n",
    "## In this exercise, we will use the patient data and understand the following:\n",
    "\n",
    "> 1. Importing the datset from a csv file\n",
    "2. Understanding the strucutre and summary of the data\n",
    "3. Typecasting a variable to a proper data type\n",
    "4. Creating derived variables and interaction variables\n",
    "5. Analyzing the corelation amongst variables\n",
    "6. Releveling the factor variable and understand its impact\n",
    "7. Building the regression model using caret package\n",
    "8. Writing the model equation and interpreting the model summary\n",
    "9. Analayzing the statistics to acertain the validity of the model\n",
    "\n",
    "There are bugs/missing code in the entire exercise. The participants are expected to work upon them.\n",
    "***\n",
    "***\n",
    "\n",
    "## Here are some useful links:\n",
    "\n",
    "> 1. Refer [link](http://www.ats.ucla.edu/stat/r/library/contrast_coding.htm) to know more about different ways of dummy variable coding\n",
    "2. [Read](http://www.ats.ucla.edu/stat/mult_pkg/faq/general/dummy.htm) about interaction variable coding\n",
    "3. Refer [link](http://www.statmethods.net/input/valuelabels.html) to know about adding lables to factors\n",
    "4. Refer [link](http://stackoverflow.com/questions/2342472/recode-relevel-data-frame-factors-with-different-levels) to relevel factor variables\n",
    "5. [Read](http://stats.stackexchange.com/questions/88485/variable-is-significant-through-stepwise-regression-but-not-in-final-models-sum) about the issues in stepwise regression\n",
    "6. The issues arising out of multi-colinearity is discussed  [here](http://blog.minitab.com/blog/understanding-statistics/handling-multicollinearity-in-regression-analysis) or  [here](https://onlinecourses.science.psu.edu/stat501/node/343)\n",
    "7. The residual diagonstic can be interpreted from [here](http://data.library.virginia.edu/diagnostic-plots/)\n",
    "8. [Read](https://onlinecourses.science.psu.edu/stat501/node/337) to understand the distinction between **outliers** and **influential cases**\n",
    "9. [Change](http://stackoverflow.com/questions/16819956/invalid-factor-level-na-generated) NAs to a new label\n",
    "10. Issues with rJava installation may get resolved by following [link](https://www.r-statistics.com/2012/08/how-to-load-the-rjava-package-after-the-error-java_home-cannot-be-determined-from-the-registry/) or by [link](http://stackoverflow.com/questions/27661325/unable-to-load-rjava-on-r)\n",
    "\n",
    "***\n",
    "\n",
    "# Code starts here\n",
    "\n",
    "We are going to use below mentioned libraries for demonstrating logistic regression:\n",
    "\n"
   ]
  },
  {
   "cell_type": "markdown",
   "metadata": {},
   "source": [
    "We are going to use **stats** and **caret** packages for demonstrating linear regression. However by default, the R packages which will be referred is in the root environment. "
   ]
  },
  {
   "cell_type": "code",
   "execution_count": 1,
   "metadata": {},
   "outputs": [
    {
     "data": {
      "text/html": [
       "'C:/Users/Administrator/Anaconda3/Lib/R/library'"
      ],
      "text/latex": [
       "'C:/Users/Administrator/Anaconda3/Lib/R/library'"
      ],
      "text/markdown": [
       "'C:/Users/Administrator/Anaconda3/Lib/R/library'"
      ],
      "text/plain": [
       "[1] \"C:/Users/Administrator/Anaconda3/Lib/R/library\""
      ]
     },
     "metadata": {},
     "output_type": "display_data"
    }
   ],
   "source": [
    ".libPaths()"
   ]
  },
  {
   "cell_type": "markdown",
   "metadata": {},
   "source": [
    "We created a seperate virtual environment named \"R\" using the navigator for specific use on this project. We will be want to use the virtual environment named **R** for doing all the analysis in this book. In order to do so:\n",
    "\n",
    "> - Activate the environment using anaconda navigator\n",
    "- Set the session to refer to the library location of the current environment by using below code chuck. \n",
    "\n",
    "Note, You may need to modify the path to refer to correct location in your machine."
   ]
  },
  {
   "cell_type": "code",
   "execution_count": 2,
   "metadata": {},
   "outputs": [
    {
     "data": {
      "text/html": [
       "'/Users/Rahul/anaconda3/envs/R/lib/R/library'"
      ],
      "text/latex": [
       "'/Users/Rahul/anaconda3/envs/R/lib/R/library'"
      ],
      "text/markdown": [
       "'/Users/Rahul/anaconda3/envs/R/lib/R/library'"
      ],
      "text/plain": [
       "[1] \"/Users/Rahul/anaconda3/envs/R/lib/R/library\""
      ]
     },
     "metadata": {},
     "output_type": "display_data"
    }
   ],
   "source": [
    "assign(\".lib.loc\", \"/Users/Rahul/anaconda3/envs/R/lib/R/library\", envir = \n",
    "       environment(.libPaths))\n",
    ".libPaths()"
   ]
  },
  {
   "cell_type": "code",
   "execution_count": 3,
   "metadata": {
    "Rmd_chunk_options": "libraries, echo=TRUE, message=FALSE, warning=FALSE",
    "autoscroll": false
   },
   "outputs": [
    {
     "ename": "ERROR",
     "evalue": "Error in library(caret): no library trees found in 'lib.loc'\n",
     "output_type": "error",
     "traceback": [
      "Error in library(caret): no library trees found in 'lib.loc'\nTraceback:\n",
      "1. library(caret)",
      "2. stop(txt, domain = NA)"
     ]
    }
   ],
   "source": [
    "library(stats)    #for regression\n",
    "library(caret)    #for data partition\n",
    "library(car)      #for VIF\n",
    "library(sandwich) #for variance, covariance matrix"
   ]
  },
  {
   "cell_type": "markdown",
   "metadata": {},
   "source": [
    "\n",
    "\n",
    "## Data Import and Manipulation\n",
    "\n",
    "### 1. Importing a data set\n",
    "\n",
    "_Give the correct path to the data_\n"
   ]
  },
  {
   "cell_type": "code",
   "execution_count": null,
   "metadata": {
    "Rmd_chunk_options": "readData, echo=TRUE,tidy=TRUE",
    "autoscroll": false
   },
   "outputs": [],
   "source": [
    "raw_df <- read.csv(\"/Users/Rahul/Documents/Datasets/Mission Hospital-Case Data.csv\", header = TRUE,sep = \",\",na.strings = c(\"\",\" \", \"NA\"))\n",
    "raw_df <- raw_df[,c(-58:-62)]"
   ]
  },
  {
   "cell_type": "markdown",
   "metadata": {},
   "source": [
    "\n",
    "Note that `echo = FALSE` parameter prevents printing the R code that generated the\n",
    "plot.\n",
    "\n",
    "### 2a. Structure and Summary of the dataset\n",
    "There are 175 NA values in Past Medical History Code. However, rather than treating these as missing values, it represents that there is no past medical history for these patients. These NA may be marked as \"None\". But while doing so, the code will give an error as we are trying to add a new level to factor variable (**raw_df$Past.MEDICAL.HISTORY.CODE**). In order to add a new level, first we will need to typecast this variable as a character variable, add a new level and then re-typecast them as Factor variable.\n",
    "\n"
   ]
  },
  {
   "cell_type": "code",
   "execution_count": null,
   "metadata": {
    "Rmd_chunk_options": "summarizeData, echo=TRUE,tidy=TRUE",
    "autoscroll": false
   },
   "outputs": [],
   "source": [
    "str(raw_df)\n",
    "summary(raw_df)\n",
    "\n",
    "raw_df$PAST.MEDICAL.HISTORY.CODE[raw_df$PAST.MEDICAL.HISTORY.CODE == \"Hypertension1\"] <- \"hypertension1\"\n",
    "\n",
    "raw_df$PAST.MEDICAL.HISTORY.CODE <- as.character(raw_df$PAST.MEDICAL.HISTORY.CODE)\n",
    "\n",
    "raw_df$PAST.MEDICAL.HISTORY.CODE[is.na(raw_df$PAST.MEDICAL.HISTORY.CODE)] <- \"None\"\n",
    "\n",
    "raw_df$PAST.MEDICAL.HISTORY.CODE <- as.factor(raw_df$PAST.MEDICAL.HISTORY.CODE)"
   ]
  },
  {
   "cell_type": "markdown",
   "metadata": {},
   "source": [
    "\n",
    "Create a new data frame and store the raw data copy. This is being done to have a copy of the raw data intact for further manipulation if needed.\n",
    "\n"
   ]
  },
  {
   "cell_type": "code",
   "execution_count": null,
   "metadata": {
    "Rmd_chunk_options": "createDataCopy, echo=TRUE,tidy=TRUE",
    "autoscroll": false
   },
   "outputs": [],
   "source": [
    "new_df <- raw_df[,c(-1,-4,-5,-7,-9:-21,-23,-25,-31:-36,-41,-42,-44,-46,-48,-56)]\n",
    "new_df <- na.omit(new_df) # listwise deletion of missing"
   ]
  },
  {
   "cell_type": "markdown",
   "metadata": {},
   "source": [
    "\n",
    "### 3a. Correlation among Variables\n",
    "\n",
    "From the numeric attribute in the data, it will of interest to analyze the variables which are corelated to each other. High corelation amongst variable may result in the issue of **multi-colinearity** in the model.\n",
    "\n"
   ]
  },
  {
   "cell_type": "code",
   "execution_count": null,
   "metadata": {
    "Rmd_chunk_options": "corMatrix, echo=TRUE,tidy=TRUE",
    "autoscroll": false
   },
   "outputs": [],
   "source": [
    "correlation_matrix <- cor(new_df[,c(1,7:10,12:14,18:24,26)])\n",
    "correlation_matrix\n",
    "# find attributes that are highly corrected (ideally >0.7)\n",
    "highly_correlated <- findCorrelation(correlation_matrix, cutoff = 0.7, names = TRUE)\n",
    "print(highly_correlated)"
   ]
  },
  {
   "cell_type": "markdown",
   "metadata": {},
   "source": [
    "\n",
    "### 3b. Derived variables\n",
    "Deriving BMI to drop of Weight and Height as variables. Both of them where highly corelated to age. Droping Cretanine as a variable as it is highly corleated to age.\n",
    "\n"
   ]
  },
  {
   "cell_type": "code",
   "execution_count": null,
   "metadata": {
    "autoscroll": false
   },
   "outputs": [],
   "source": [
    "new_df$BMI <- #missing code to compute BMI\n",
    "new_df$I_COST.OF.IMPLANT <- #missing code to create interaction between IMPLANT.USED..Y.N. and COST.OF.IMPLANT\n",
    "filter_df <- new_df[,c(-5:-6)]"
   ]
  },
  {
   "cell_type": "markdown",
   "metadata": {},
   "source": [
    "\n",
    "### 3c. Relevel\n",
    "\n",
    "By default, the base category/reference category selected is ordered alphabetically. In this code chunk we are just changing the base category for PAST.MEDICAL.HISTORY.CODE variable.\n",
    "\n",
    "The base category can be releveled using the function **relevel()**.\n",
    "\n"
   ]
  },
  {
   "cell_type": "code",
   "execution_count": null,
   "metadata": {
    "Rmd_chunk_options": "relevelCategory, echo=TRUE,tidy=TRUE",
    "autoscroll": false
   },
   "outputs": [],
   "source": [
    "filter_df$PAST.MEDICAL.HISTORY.CODE <- relevel(filter_df$PAST.MEDICAL.HISTORY.CODE, ref = \"None\")"
   ]
  },
  {
   "cell_type": "markdown",
   "metadata": {},
   "source": [
    "\n",
    "\n",
    "### 4. Create train and test datase vct\n",
    "\n",
    "#### Reserve 80% for **_training_** and 20% of **_test_**\n",
    "\n",
    "_Correct the error in the below code chunk_\n"
   ]
  },
  {
   "cell_type": "code",
   "execution_count": null,
   "metadata": {
    "Rmd_chunk_options": "createDataPartition, echo=TRUE,tidy=TRUE",
    "autoscroll": false
   },
   "outputs": [],
   "source": [
    "set.seed(2341)\n",
    "index <- createDataPartition(filter_df$TOTAL.COST.TO.HOSPITAL, p = 0.80, list = FALSE)\n",
    "train_df <- filter_df[index,]\n",
    "test_df <- filter_df[index,]"
   ]
  },
  {
   "cell_type": "markdown",
   "metadata": {},
   "source": [
    "\n",
    "Transformation of variables may be needed to validate the model assumptions.\n"
   ]
  },
  {
   "cell_type": "code",
   "execution_count": null,
   "metadata": {
    "autoscroll": false
   },
   "outputs": [],
   "source": [
    "#missing code"
   ]
  },
  {
   "cell_type": "markdown",
   "metadata": {},
   "source": [
    "\n",
    "We can pull the specific attribute needed to build the model in another data frame. This agian is more of a hygine practice to not touch the **train** and **test** data set directly.\n",
    "\n",
    "_Correct the error in the below code chunk_\n"
   ]
  },
  {
   "cell_type": "code",
   "execution_count": null,
   "metadata": {
    "Rmd_chunk_options": "variableUsedinTraining, echo=TRUE,tidy=TRUE",
    "autoscroll": false
   },
   "outputs": [],
   "source": [
    "reg_train_df <- as.data.frame(train_df[,c(\"AGE\",\n",
    "                                             \"HR.PULSE\",\n",
    "                                             \"BP..HIGH\",\n",
    "                                             \"RR\",\n",
    "                                             \"HB\",\n",
    "                                             \"UREA\",\n",
    "                                             #\"TOTAL.LENGTH.OF.STAY\",\n",
    "                                             \"BMI\",\n",
    "                                             #\"COST.OF.IMPLANT\",\n",
    "                                             #\"IMPLANT.USED..Y.N.\",\n",
    "                                             \"I_COST.OF.IMPLANT\",\n",
    "                                             \"GENDER\",\n",
    "                                             \"MARIATL.STATUS\",\n",
    "                                             \"KEY.COMPLAINTS..CODE\",\n",
    "                                             \"PAST.MEDICAL.HISTORY.CODE\",\n",
    "                                             \"MODE.OF.ARRIVAL\",\n",
    "                                             #\"STATE.AT.THE.TIME.OF.ARRIVAL\",\n",
    "                                             \"TYPE.OF.ADMSN\",\n",
    "                                             \"TOTAL.COST.TO.HOSPITAL\"\n",
    "                                             #\"Log.Cost.Treatment\"\n",
    ")])"
   ]
  },
  {
   "cell_type": "markdown",
   "metadata": {},
   "source": [
    "\n",
    "_Correct the error in the below code chunk_\n"
   ]
  },
  {
   "cell_type": "code",
   "execution_count": null,
   "metadata": {
    "Rmd_chunk_options": "variableUsedinTesting, echo=TRUE, tidy=TRUE",
    "autoscroll": false
   },
   "outputs": [],
   "source": [
    "reg_test_df <- as.data.frame(data.test[,c(\"AGE\",\n",
    "                                             \"HR.PULSE\",\n",
    "                                             \"BP..HIGH\",\n",
    "                                             \"RR\",\n",
    "                                             \"HB\",\n",
    "                                             \"UREA\",\n",
    "                                             #\"TOTAL.LENGTH.OF.STAY\",\n",
    "                                             \"BMI\",\n",
    "                                             #\"COST.OF.IMPLANT\",\n",
    "                                             #\"IMPLANT.USED..Y.N.\",\n",
    "                                             \"I_COST.OF.IMPLANT\",\n",
    "                                             \"GENDER\",\n",
    "                                             \"MARITAL.STATUS\",\n",
    "                                             \"KEY.COMPLAINTS..CODE\",\n",
    "                                             \"PAST.MEDICAL.HISTORY.CODE\",\n",
    "                                             \"MODE.OF.ARRIVAL\",\n",
    "                                             #\"STATE.AT.THE.TIME.OF.ARRIVAL\",\n",
    "                                             \"TYPE.OF.ADMSN\",\n",
    "                                             \"TOTAL.COST.TO.HOSPITAL\"\n",
    "                                             #\"Log.Cost.Treatment\"\n",
    ")])"
   ]
  },
  {
   "cell_type": "markdown",
   "metadata": {},
   "source": [
    "\n",
    "***\n",
    "\n",
    "## Model building: Using the **lm()** function\n",
    "\n",
    "The actual model building starts now. Note that we are demonstrating the strategy of building a step wise model (forward selection and backward elimination)  using the **lm()** function\n",
    "\n"
   ]
  },
  {
   "cell_type": "code",
   "execution_count": null,
   "metadata": {
    "Rmd_chunk_options": "buildModel, echo=TRUE, message=FALSE, warning=FALSE, tidy=TRUE",
    "autoscroll": false
   },
   "outputs": [],
   "source": [
    "#Null Model\n",
    "no_model <- lm(TOTAL.COST.TO.HOSPITAL ~ 1,data = reg_train_df)\n",
    "\n",
    "#Full Model\n",
    "reg_full_model = lm(TOTAL.COST.TO.HOSPITAL ~ ., data = reg_train_df)\n",
    "\n",
    "#Stepwise - Forward selection backward elimination\n",
    "reg_step_model <- step(no_model, list(lower = formula(no_model),\n",
    "                                         upper = formula(reg_full_model)),\n",
    "                           direction = \"both\",trace = 0)"
   ]
  },
  {
   "cell_type": "markdown",
   "metadata": {},
   "source": [
    "\n",
    "\n",
    "***\n",
    "\n",
    "## Model Evaluation\n",
    "\n",
    "### 1. Model summary of Train Data\n",
    "\n",
    "Checking the if the model satisfies the assumpations of Linear Regression Model. Note that this evaluation is on training data.\n",
    "\n",
    "The model summary gives the equation of the model as well as helps test the assumption that beta coeffiecents are not statically zero.\n"
   ]
  },
  {
   "cell_type": "code",
   "execution_count": null,
   "metadata": {
    "Rmd_chunk_options": "modelStats,tidy=TRUE",
    "autoscroll": false
   },
   "outputs": [],
   "source": [
    "summary(reg_step_model)"
   ]
  },
  {
   "cell_type": "markdown",
   "metadata": {},
   "source": [
    "\n",
    "\n",
    "You may ignore the below code chunk. This code is more to understand how the standard error of beta coefficients are calculated. **vcov()** is used to compute the variance covariance matrix of the fitted object. **cov2cor()** is used to scale the covariance matrix into the correponding correlation matrix. In the matrix generated out of the below code chunk:\n",
    "\n",
    "> 1. The diagonal values are the variance of the variable to itself.\n",
    "2. The square root of the diagonal values gives the standard error associated with the estimates.\n",
    "3. The non diagonal elements are the covariance of the estimated\n",
    "\n"
   ]
  },
  {
   "cell_type": "code",
   "execution_count": null,
   "metadata": {
    "Rmd_chunk_options": "echo=TRUE",
    "autoscroll": false
   },
   "outputs": [],
   "source": [
    "vcov(reg_step_model)\n",
    "sqrt(diag(vcov(reg_step_model)))\n",
    "#cov2cor(vcov(RegModelStepwise))"
   ]
  },
  {
   "cell_type": "markdown",
   "metadata": {},
   "source": [
    "\n",
    "### 2. The residual analysis\n",
    "\n",
    "The error term diagnostic is critical to understanding the behaviour of linear regression models. The two critical assumptions of linear regression are:\n",
    "\n",
    ">1. Error term should be normally distributed\n",
    "2. Error term should have constant variance (**homoscedasticity**)\n",
    "\n",
    "The **plot()** function when used on the regression object model gives us four different plots. The two important one to analyze there are:\n",
    "\n",
    "1. Normal Q-Q\n",
    "2. Scale-Location\n",
    "\n",
    "#####1. Normal Q_Q plot\n",
    "This plot shows if the error terms are normally distributed. In case, of normal distribution, the dots should appear close to the straight line with not much of a deviation.\n",
    "\n",
    "#####2. Scale-Location\n",
    "Also known as spread location plot, it shows if the residuals are equally spread along the range of predictors. It is desirable to see a horizontal straight line with with randomly spread points.\n",
    "\n",
    "**The other two plots are:**\n",
    "\n",
    "#####3. Residual vs. Fitted\n",
    "There could be a non linear relationship between predictor variable (Xs) and the outcome variable (Y). This non linear relationship can show up in this plot which may suggest that the model is mis-specified. It is desirable to see a horizontal straight line with with randomly spread points.\n",
    "\n",
    "#####4. Residual vs. Leverage\n",
    "The regression line can be influenced by outliers (extreme values in Y) or by data points with high leverage (extreme values in X). Not all the extreme values are influential cases in regression analysis.\n",
    "\n",
    "Even if data has extreme values, it may not be influential to determine the regression line. On the flip side, some cases could be very influential even if they do not seem to be an outlier. Influential cases are identified by cook's distance. In the plot, look for for outlying values at the upper right corner or at the lower right corner (cases outside of a dashed line i.e. Cook’s distance).\n",
    "\n"
   ]
  },
  {
   "cell_type": "code",
   "execution_count": null,
   "metadata": {
    "Rmd_chunk_options": "variableDeclaration, echo=TRUE",
    "autoscroll": false
   },
   "outputs": [],
   "source": [
    "plot(reg_step_model)\n",
    "\n",
    "#hist(residuals(RegModelStepwise), main = \"Residuals\", col = 'blue')"
   ]
  },
  {
   "cell_type": "markdown",
   "metadata": {},
   "source": [
    "\n",
    "##### Visual inspection to check for heteroscedasticity in error terms\n",
    "\n",
    "You may ignore the below code chuck. This is an elaboration of the scale-location plot obtained before.\n",
    "\n"
   ]
  },
  {
   "cell_type": "code",
   "execution_count": null,
   "metadata": {
    "Rmd_chunk_options": "modelOptimalCutOff, echo=FALSE,tidy=TRUE",
    "autoscroll": false
   },
   "outputs": [],
   "source": [
    "plot(predict(reg_step_model), residuals(reg_step_model), main = \"Scale-Location\")\n",
    "#yhat <- RegModelStepwise$fitted.values\n",
    "#plot(yhat, res) #same plot as above"
   ]
  },
  {
   "cell_type": "markdown",
   "metadata": {},
   "source": [
    "\n",
    "##### Multi-colinearity\n",
    "\n",
    "Variance Inflation Factor (VIF) is a measure of how much the variance of the estimated regrression coeffiecients are inflated as compared to when the predicator variable are not linearly related.\n",
    "\n",
    "> VIF = 1 : Not Correlated\n",
    "> 1<VIF<5 : Moderately Correlated\n",
    "> 5<VIF<=10: Highly Correlated\n",
    "\n",
    "_The square root of the VIF tells you how much larger the standard error is, compared with what it would be if that variable were uncorrelated with the other predictor variables in the model._\n",
    "\n",
    "Say, if the square root of the VIF is 2.5; this means that the standard error for the coefficient of that predictor variable is 2.5 times as large as it would be if the predictor variable were uncorrelated with the other predictor variables\n",
    "\n",
    "Generally the issue of multi-colinearity wil not arise, if the corelation amongst variable has been analyzed before model building and the one amongst the corelated variable has been dropped from the data.\n"
   ]
  },
  {
   "cell_type": "code",
   "execution_count": null,
   "metadata": {
    "autoscroll": false
   },
   "outputs": [],
   "source": [
    "vif(reg_step_model)"
   ]
  },
  {
   "cell_type": "markdown",
   "metadata": {},
   "source": [
    "\n",
    "### 3. Model Validation on the Test Data\n",
    "\n",
    "The **predict** function is used to get the predicted response on the new dataset.\n",
    "You may get an error message if the test data has got any new levels which was not there in the training set. This generally happens when the data has categorical variable with multiple levels.\n"
   ]
  },
  {
   "cell_type": "code",
   "execution_count": null,
   "metadata": {
    "Rmd_chunk_options": "modelValidation, echo=TRUE,tidy=TRUE",
    "autoscroll": false
   },
   "outputs": [],
   "source": [
    "predict_test = predict(reg_step_model, reg_test_df,\n",
    "                            interval = \"confidence\",\n",
    "                            level = 0.95,\n",
    "                            type = \"response\")\n",
    "print(predict_test)"
   ]
  },
  {
   "cell_type": "markdown",
   "metadata": {},
   "source": [
    "\n",
    "\n",
    "#### End of Document\n",
    "\n",
    "***\n",
    "***\n"
   ]
  }
 ],
 "metadata": {
  "Rmd_header": {
   "author": "Kumar Rahul",
   "output": "word_document",
   "title": "Regression Concepts Using R"
  },
  "kernelspec": {
   "display_name": "R",
   "language": "R",
   "name": "ir"
  },
  "language_info": {
   "codemirror_mode": "r",
   "file_extension": ".r",
   "mimetype": "text/x-r-source",
   "name": "R",
   "pygments_lexer": "r",
   "version": "3.4.3"
  }
 },
 "nbformat": 4,
 "nbformat_minor": 1
}
