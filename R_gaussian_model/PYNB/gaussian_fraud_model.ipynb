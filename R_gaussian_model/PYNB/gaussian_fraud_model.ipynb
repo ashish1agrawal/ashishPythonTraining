{
 "cells": [
  {
   "cell_type": "markdown",
   "metadata": {},
   "source": [
    "# Multivariate Gaussian Model\n",
    "\n",
    "### By Kumar Rahul\n",
    "The analysis is on company financial manipulations and devise algorithm to identify a manipulater from a non manipulater based on the financial ratios reported by the companies. There are a total of 1239 observations in the data set. Out of these 1239 observations, there are 1200 non manipulaters and 39 manipulaters\n",
    "\n",
    "***\n",
    "\n"
   ]
  },
  {
   "cell_type": "code",
   "execution_count": 1,
   "metadata": {
    "Rmd_chunk_options": "include=FALSE",
    "autoscroll": false
   },
   "outputs": [
    {
     "name": "stderr",
     "output_type": "stream",
     "text": [
      "Loading required package: lattice\n",
      "Loading required package: ggplot2\n"
     ]
    }
   ],
   "source": [
    "library(caret)            #for split and model accuracy\n",
    "setwd(\"/Users/Rahul/Documents/Rahul Office/IIMB/Work @ IIMB/Training Material/Concepts/R files/R_gaussian_model\")"
   ]
  },
  {
   "cell_type": "markdown",
   "metadata": {},
   "source": [
    "\n",
    "## Preparing data\n",
    "\n",
    "#### Read data from a specified location\n"
   ]
  },
  {
   "cell_type": "code",
   "execution_count": 4,
   "metadata": {
    "Rmd_chunk_options": "echo=TRUE",
    "autoscroll": false
   },
   "outputs": [
    {
     "data": {
      "text/html": [
       "<table>\n",
       "<thead><tr><th scope=col>DSRI</th><th scope=col>GMI</th><th scope=col>AQI</th><th scope=col>SGI</th><th scope=col>DEPI</th><th scope=col>SGAI</th><th scope=col>ACCR</th><th scope=col>LEVI</th><th scope=col>Status</th></tr></thead>\n",
       "<tbody>\n",
       "\t<tr><td>1.624742   </td><td>1.128927   </td><td>7.1850534  </td><td> 0.3662114 </td><td>1.381519   </td><td>1.62414487 </td><td>-0.16680870</td><td>1.1610817  </td><td>Yes        </td></tr>\n",
       "\t<tr><td>1.000000   </td><td>1.606492   </td><td>1.0049879  </td><td>13.0814332 </td><td>0.400000   </td><td>5.19820717 </td><td> 0.06047516</td><td>0.9867325  </td><td>Yes        </td></tr>\n",
       "\t<tr><td>1.000000   </td><td>1.015607   </td><td>1.2413895  </td><td> 1.4750183 </td><td>1.169353   </td><td>0.64767093 </td><td> 0.03673163</td><td>1.2643050  </td><td>Yes        </td></tr>\n",
       "\t<tr><td>1.486239   </td><td>1.000000   </td><td>0.4655348  </td><td> 0.6728395 </td><td>2.000000   </td><td>0.09288991 </td><td> 0.27343412</td><td>0.6809750  </td><td>Yes        </td></tr>\n",
       "\t<tr><td>1.000000   </td><td>1.369038   </td><td>0.6371120  </td><td> 0.8613464 </td><td>1.454676   </td><td>1.74145963 </td><td> 0.12304770</td><td>0.9390472  </td><td>Yes        </td></tr>\n",
       "\t<tr><td>0.905532   </td><td>1.360915   </td><td>0.7839949  </td><td> 1.7933237 </td><td>1.278244   </td><td>0.50526004 </td><td> 0.05464238</td><td>1.5431371  </td><td>Yes        </td></tr>\n",
       "</tbody>\n",
       "</table>\n"
      ],
      "text/latex": [
       "\\begin{tabular}{r|lllllllll}\n",
       " DSRI & GMI & AQI & SGI & DEPI & SGAI & ACCR & LEVI & Status\\\\\n",
       "\\hline\n",
       "\t 1.624742    & 1.128927    & 7.1850534   &  0.3662114  & 1.381519    & 1.62414487  & -0.16680870 & 1.1610817   & Yes        \\\\\n",
       "\t 1.000000    & 1.606492    & 1.0049879   & 13.0814332  & 0.400000    & 5.19820717  &  0.06047516 & 0.9867325   & Yes        \\\\\n",
       "\t 1.000000    & 1.015607    & 1.2413895   &  1.4750183  & 1.169353    & 0.64767093  &  0.03673163 & 1.2643050   & Yes        \\\\\n",
       "\t 1.486239    & 1.000000    & 0.4655348   &  0.6728395  & 2.000000    & 0.09288991  &  0.27343412 & 0.6809750   & Yes        \\\\\n",
       "\t 1.000000    & 1.369038    & 0.6371120   &  0.8613464  & 1.454676    & 1.74145963  &  0.12304770 & 0.9390472   & Yes        \\\\\n",
       "\t 0.905532    & 1.360915    & 0.7839949   &  1.7933237  & 1.278244    & 0.50526004  &  0.05464238 & 1.5431371   & Yes        \\\\\n",
       "\\end{tabular}\n"
      ],
      "text/markdown": [
       "\n",
       "DSRI | GMI | AQI | SGI | DEPI | SGAI | ACCR | LEVI | Status | \n",
       "|---|---|---|---|---|---|\n",
       "| 1.624742    | 1.128927    | 7.1850534   |  0.3662114  | 1.381519    | 1.62414487  | -0.16680870 | 1.1610817   | Yes         | \n",
       "| 1.000000    | 1.606492    | 1.0049879   | 13.0814332  | 0.400000    | 5.19820717  |  0.06047516 | 0.9867325   | Yes         | \n",
       "| 1.000000    | 1.015607    | 1.2413895   |  1.4750183  | 1.169353    | 0.64767093  |  0.03673163 | 1.2643050   | Yes         | \n",
       "| 1.486239    | 1.000000    | 0.4655348   |  0.6728395  | 2.000000    | 0.09288991  |  0.27343412 | 0.6809750   | Yes         | \n",
       "| 1.000000    | 1.369038    | 0.6371120   |  0.8613464  | 1.454676    | 1.74145963  |  0.12304770 | 0.9390472   | Yes         | \n",
       "| 0.905532    | 1.360915    | 0.7839949   |  1.7933237  | 1.278244    | 0.50526004  |  0.05464238 | 1.5431371   | Yes         | \n",
       "\n",
       "\n"
      ],
      "text/plain": [
       "  DSRI     GMI      AQI       SGI        DEPI     SGAI       ACCR       \n",
       "1 1.624742 1.128927 7.1850534  0.3662114 1.381519 1.62414487 -0.16680870\n",
       "2 1.000000 1.606492 1.0049879 13.0814332 0.400000 5.19820717  0.06047516\n",
       "3 1.000000 1.015607 1.2413895  1.4750183 1.169353 0.64767093  0.03673163\n",
       "4 1.486239 1.000000 0.4655348  0.6728395 2.000000 0.09288991  0.27343412\n",
       "5 1.000000 1.369038 0.6371120  0.8613464 1.454676 1.74145963  0.12304770\n",
       "6 0.905532 1.360915 0.7839949  1.7933237 1.278244 0.50526004  0.05464238\n",
       "  LEVI      Status\n",
       "1 1.1610817 Yes   \n",
       "2 0.9867325 Yes   \n",
       "3 1.2643050 Yes   \n",
       "4 0.6809750 Yes   \n",
       "5 0.9390472 Yes   \n",
       "6 1.5431371 Yes   "
      ]
     },
     "metadata": {},
     "output_type": "display_data"
    }
   ],
   "source": [
    "raw_df <- read.csv(\"/Users/Rahul/Documents/Rahul Office/IIMB/Work @ IIMB/Training Material/Concepts/R files/R_gaussian_model/Company_Fraud_Data_for_Gaussian_Anomaly_Detection.csv\",head=TRUE,na.strings=c(\"\", \" \", \"NA\"), sep=\",\")\n",
    "\n",
    "filter_df <- raw_df[,-c(1)]\n",
    "head(filter_df)"
   ]
  },
  {
   "cell_type": "code",
   "execution_count": 5,
   "metadata": {
    "autoscroll": false
   },
   "outputs": [],
   "source": [
    "set.seed(1224)\n",
    "trainIndex <- createDataPartition(filter_df$Status, p = 0.75, list = FALSE)\n",
    "train_df <- filter_df[trainIndex,]\n",
    "test_df <- filter_df[-trainIndex,]"
   ]
  },
  {
   "cell_type": "code",
   "execution_count": 6,
   "metadata": {
    "autoscroll": false
   },
   "outputs": [],
   "source": [
    "subset_manipulator_df <- subset(train_df,\n",
    "                    train_df$Status == \"Yes\")\n",
    "new_train_df <- subset(train_df,train_df$Status==\"No\")\n",
    "new_test_df <- rbind(test_df,subset_manipulator_df)"
   ]
  },
  {
   "cell_type": "markdown",
   "metadata": {},
   "source": [
    "\n",
    "#### Prepare and run numerical summaries\n"
   ]
  },
  {
   "cell_type": "code",
   "execution_count": 7,
   "metadata": {
    "autoscroll": false
   },
   "outputs": [
    {
     "data": {
      "text/plain": [
       "      DSRI             GMI                AQI                SGI        \n",
       " Min.   :0.0000   Min.   :-20.8118   Min.   :-21.7338   Min.   :0.1541  \n",
       " 1st Qu.:0.8859   1st Qu.:  0.9307   1st Qu.:  0.7664   1st Qu.:0.9703  \n",
       " Median :1.0278   Median :  1.0000   Median :  1.0111   Median :1.0856  \n",
       " Mean   :1.0999   Mean   :  0.9631   Mean   :  0.9735   Mean   :1.0927  \n",
       " 3rd Qu.:1.1870   3rd Qu.:  1.0604   3rd Qu.:  1.2293   3rd Qu.:1.1972  \n",
       " Max.   :7.1177   Max.   :  7.1386   Max.   : 12.8854   Max.   :3.3340  \n",
       "      DEPI              SGAI             ACCR               LEVI        \n",
       " Min.   :0.06958   Min.   :0.0000   Min.   :-3.14350   Min.   :0.03877  \n",
       " 1st Qu.:0.93672   1st Qu.:0.8969   1st Qu.:-0.07649   1st Qu.:0.92479  \n",
       " Median :1.00293   Median :1.0000   Median :-0.03004   Median :1.01695  \n",
       " Mean   :1.03525   Mean   :1.0453   Mean   :-0.03434   Mean   :1.04325  \n",
       " 3rd Qu.:1.08013   3rd Qu.:1.1142   3rd Qu.: 0.02004   3rd Qu.:1.11650  \n",
       " Max.   :4.79883   Max.   :6.9075   Max.   : 0.95989   Max.   :6.25043  \n",
       " Status   \n",
       " No :900  \n",
       " Yes:  0  \n",
       "          \n",
       "          \n",
       "          \n",
       "          "
      ]
     },
     "metadata": {},
     "output_type": "display_data"
    }
   ],
   "source": [
    "summary(new_train_df) #summary of the data\n",
    "new_train_df <- na.omit(new_train_df) # listwise deletion of missing\n",
    "new_test_df <- na.omit(new_test_df) # listwise deletion of missing"
   ]
  },
  {
   "cell_type": "markdown",
   "metadata": {},
   "source": [
    "\n",
    "#### Train and test dataset with needed variables\n"
   ]
  },
  {
   "cell_type": "code",
   "execution_count": 8,
   "metadata": {
    "autoscroll": false
   },
   "outputs": [],
   "source": [
    "model_train_df <- as.data.frame(new_train_df[,c(#\"DSRI\",\n",
    "                                          #\"GMI\",\n",
    "                                          \"AQI\",\n",
    "                                          #\"SGI\",\n",
    "                                          \"DEPI\",\n",
    "                                          \"SGAI\",\n",
    "                                          \"ACCR\",\n",
    "                                          \"LEVI\",\n",
    "                                          \"Status\"\n",
    ")])\n",
    "\n",
    "model_test_df <- as.data.frame(new_test_df[,c(#\"DSRI\",\n",
    "                                        #\"GMI\",\n",
    "                                        \"AQI\",\n",
    "                                        #\"SGI\",\n",
    "                                        \"DEPI\",\n",
    "                                        \"SGAI\",\n",
    "                                        \"ACCR\",\n",
    "                                        \"LEVI\",\n",
    "                                        \"Status\"\n",
    ")])\n"
   ]
  },
  {
   "cell_type": "markdown",
   "metadata": {},
   "source": [
    "\n",
    "## Gaussian Model\n",
    "\n"
   ]
  },
  {
   "cell_type": "code",
   "execution_count": 9,
   "metadata": {
    "autoscroll": false
   },
   "outputs": [],
   "source": [
    "mean_model_train_df <- apply(model_train_df[,1:5], 2, mean)\n",
    "sd_model_train_df <- apply(model_train_df[,1:5], 2, sd)"
   ]
  },
  {
   "cell_type": "code",
   "execution_count": 10,
   "metadata": {
    "autoscroll": false
   },
   "outputs": [],
   "source": [
    "gaussian_model <- function(x,m,s){\n",
    "  constant <- 1 / (s * sqrt( 2 * pi))\n",
    "  value <- exp((-1*(x - m) ^ 2) / (2 * (s ^ 2)))\n",
    "  constant*value\n",
    "}"
   ]
  },
  {
   "cell_type": "code",
   "execution_count": 11,
   "metadata": {
    "autoscroll": false
   },
   "outputs": [],
   "source": [
    "prob <- apply(model_test_df[1:5], 1, function(x,y,z) gaussian_model(x,mean_model_train_df[y],sd_model_train_df[z]))\n",
    "prob <- t(prob)\n",
    "colnames(prob) <- paste(\"P(\", colnames(prob), \")\", sep = \"\")\n",
    "\n",
    "gaussian_model_test_df <- cbind(model_test_df,prob)"
   ]
  },
  {
   "cell_type": "code",
   "execution_count": 12,
   "metadata": {
    "autoscroll": false
   },
   "outputs": [],
   "source": [
    "gaussian_model_test_df$JointProb <-\n",
    "                  #gaussian_model_test_df$`P(DSRI)`*\n",
    "                  #gaussian_model_test_df$`P(GMI)`*\n",
    "                  gaussian_model_test_df$`P(AQI)`*\n",
    "                  #gaussian_model_test_df$`P(SGI)`*\n",
    "                  gaussian_model_test_df$`P(DEPI)`*\n",
    "                  gaussian_model_test_df$`P(SGAI)`*\n",
    "                  gaussian_model_test_df$`P(ACCR)`*\n",
    "                  gaussian_model_test_df$`P(LEVI)`\n",
    "gaussian_model_test_df$Actual.Status <- gaussian_model_test_df$Status"
   ]
  },
  {
   "cell_type": "code",
   "execution_count": 13,
   "metadata": {
    "Rmd_chunk_options": "variableDeclaration, include=FALSE",
    "autoscroll": false
   },
   "outputs": [],
   "source": [
    "#creating empty vectors to store the results.\n",
    "msclaf_cost <- c()\n",
    "youden_index <- c()\n",
    "cutoff <- c()\n",
    "P11 <- c() #correct classification of positive as positive\n",
    "P00 <- c() #correct classification of negative as negative\n",
    "P10 <- c() #misclassification of positive class to negative class\n",
    "P01 <- c() #misclassification of negative class to positive class"
   ]
  },
  {
   "cell_type": "code",
   "execution_count": 14,
   "metadata": {
    "Rmd_chunk_options": "modelOptimalCutOff, echo=FALSE,tidy=TRUE",
    "autoscroll": false
   },
   "outputs": [
    {
     "data": {
      "text/plain": [
       "    Yes No\n",
       "Yes   0  1\n",
       "No    2  0"
      ]
     },
     "metadata": {},
     "output_type": "display_data"
    }
   ],
   "source": [
    "n <- length(gaussian_model_test_df$Actual.Status)\n",
    "costs = matrix(c(0,2,1, 0), ncol = 2)\n",
    "colnames(costs) = rownames(costs) = c(\"Yes\", \"No\")\n",
    "as.table(costs)"
   ]
  },
  {
   "cell_type": "markdown",
   "metadata": {},
   "source": [
    "\n",
    "The misclassification cost table is:\n"
   ]
  },
  {
   "cell_type": "code",
   "execution_count": 16,
   "metadata": {
    "Rmd_chunk_options": "costCal, echo=TRUE, tidy=TRUE",
    "autoscroll": false
   },
   "outputs": [
    {
     "data": {
      "text/html": [
       "<table>\n",
       "<thead><tr><th scope=col>cutoff</th><th scope=col>P10</th><th scope=col>P01</th><th scope=col>msclaf_cost</th><th scope=col>P11</th><th scope=col>P00</th><th scope=col>youden_index</th></tr></thead>\n",
       "<tbody>\n",
       "\t<tr><td>0.05       </td><td>0.43589744 </td><td>0.1233333  </td><td>0.9951282  </td><td>0.5641026  </td><td>0.87666667 </td><td>0.440769231</td></tr>\n",
       "\t<tr><td>0.10       </td><td>0.35897436 </td><td>0.1700000  </td><td>0.8879487  </td><td>0.6410256  </td><td>0.83000000 </td><td>0.471025641</td></tr>\n",
       "\t<tr><td>0.15       </td><td>0.30769231 </td><td>0.2066667  </td><td>0.8220513  </td><td>0.6923077  </td><td>0.79333333 </td><td>0.485641026</td></tr>\n",
       "\t<tr><td>0.20       </td><td>0.30769231 </td><td>0.2633333  </td><td>0.8787179  </td><td>0.6923077  </td><td>0.73666667 </td><td>0.428974359</td></tr>\n",
       "\t<tr><td>0.25       </td><td>0.25641026 </td><td>0.2866667  </td><td>0.7994872  </td><td>0.7435897  </td><td>0.71333333 </td><td>0.456923077</td></tr>\n",
       "\t<tr><td>0.30       </td><td>0.23076923 </td><td>0.3500000  </td><td>0.8115385  </td><td>0.7692308  </td><td>0.65000000 </td><td>0.419230769</td></tr>\n",
       "\t<tr><td>0.35       </td><td>0.20512821 </td><td>0.4066667  </td><td>0.8169231  </td><td>0.7948718  </td><td>0.59333333 </td><td>0.388205128</td></tr>\n",
       "\t<tr><td>0.40       </td><td>0.15384615 </td><td>0.4633333  </td><td>0.7710256  </td><td>0.8461538  </td><td>0.53666667 </td><td>0.382820513</td></tr>\n",
       "\t<tr><td>0.45       </td><td>0.12820513 </td><td>0.5166667  </td><td>0.7730769  </td><td>0.8717949  </td><td>0.48333333 </td><td>0.355128205</td></tr>\n",
       "\t<tr><td>0.50       </td><td>0.10256410 </td><td>0.5700000  </td><td>0.7751282  </td><td>0.8974359  </td><td>0.43000000 </td><td>0.327435897</td></tr>\n",
       "\t<tr><td>0.55       </td><td>0.07692308 </td><td>0.6433333  </td><td>0.7971795  </td><td>0.9230769  </td><td>0.35666667 </td><td>0.279743590</td></tr>\n",
       "\t<tr><td>0.60       </td><td>0.07692308 </td><td>0.7366667  </td><td>0.8905128  </td><td>0.9230769  </td><td>0.26333333 </td><td>0.186410256</td></tr>\n",
       "\t<tr><td>0.65       </td><td>0.07692308 </td><td>0.8433333  </td><td>0.9971795  </td><td>0.9230769  </td><td>0.15666667 </td><td>0.079743590</td></tr>\n",
       "\t<tr><td>0.70       </td><td>0.05128205 </td><td>0.9433333  </td><td>1.0458974  </td><td>0.9487179  </td><td>0.05666667 </td><td>0.005384615</td></tr>\n",
       "\t<tr><td>0.75       </td><td>        NA </td><td>       NA  </td><td>       NA  </td><td>       NA  </td><td>        NA </td><td>         NA</td></tr>\n",
       "\t<tr><td>0.80       </td><td>        NA </td><td>       NA  </td><td>       NA  </td><td>       NA  </td><td>        NA </td><td>         NA</td></tr>\n",
       "\t<tr><td>0.85       </td><td>        NA </td><td>       NA  </td><td>       NA  </td><td>       NA  </td><td>        NA </td><td>         NA</td></tr>\n",
       "\t<tr><td>0.90       </td><td>        NA </td><td>       NA  </td><td>       NA  </td><td>       NA  </td><td>        NA </td><td>         NA</td></tr>\n",
       "\t<tr><td>0.95       </td><td>        NA </td><td>       NA  </td><td>       NA  </td><td>       NA  </td><td>        NA </td><td>         NA</td></tr>\n",
       "\t<tr><td>1.00       </td><td>        NA </td><td>       NA  </td><td>       NA  </td><td>       NA  </td><td>        NA </td><td>         NA</td></tr>\n",
       "</tbody>\n",
       "</table>\n"
      ],
      "text/latex": [
       "\\begin{tabular}{lllllll}\n",
       " cutoff & P10 & P01 & msclaf\\_cost & P11 & P00 & youden\\_index\\\\\n",
       "\\hline\n",
       "\t 0.05        & 0.43589744  & 0.1233333   & 0.9951282   & 0.5641026   & 0.87666667  & 0.440769231\\\\\n",
       "\t 0.10        & 0.35897436  & 0.1700000   & 0.8879487   & 0.6410256   & 0.83000000  & 0.471025641\\\\\n",
       "\t 0.15        & 0.30769231  & 0.2066667   & 0.8220513   & 0.6923077   & 0.79333333  & 0.485641026\\\\\n",
       "\t 0.20        & 0.30769231  & 0.2633333   & 0.8787179   & 0.6923077   & 0.73666667  & 0.428974359\\\\\n",
       "\t 0.25        & 0.25641026  & 0.2866667   & 0.7994872   & 0.7435897   & 0.71333333  & 0.456923077\\\\\n",
       "\t 0.30        & 0.23076923  & 0.3500000   & 0.8115385   & 0.7692308   & 0.65000000  & 0.419230769\\\\\n",
       "\t 0.35        & 0.20512821  & 0.4066667   & 0.8169231   & 0.7948718   & 0.59333333  & 0.388205128\\\\\n",
       "\t 0.40        & 0.15384615  & 0.4633333   & 0.7710256   & 0.8461538   & 0.53666667  & 0.382820513\\\\\n",
       "\t 0.45        & 0.12820513  & 0.5166667   & 0.7730769   & 0.8717949   & 0.48333333  & 0.355128205\\\\\n",
       "\t 0.50        & 0.10256410  & 0.5700000   & 0.7751282   & 0.8974359   & 0.43000000  & 0.327435897\\\\\n",
       "\t 0.55        & 0.07692308  & 0.6433333   & 0.7971795   & 0.9230769   & 0.35666667  & 0.279743590\\\\\n",
       "\t 0.60        & 0.07692308  & 0.7366667   & 0.8905128   & 0.9230769   & 0.26333333  & 0.186410256\\\\\n",
       "\t 0.65        & 0.07692308  & 0.8433333   & 0.9971795   & 0.9230769   & 0.15666667  & 0.079743590\\\\\n",
       "\t 0.70        & 0.05128205  & 0.9433333   & 1.0458974   & 0.9487179   & 0.05666667  & 0.005384615\\\\\n",
       "\t 0.75        &         NA  &        NA   &        NA   &        NA   &         NA  &          NA\\\\\n",
       "\t 0.80        &         NA  &        NA   &        NA   &        NA   &         NA  &          NA\\\\\n",
       "\t 0.85        &         NA  &        NA   &        NA   &        NA   &         NA  &          NA\\\\\n",
       "\t 0.90        &         NA  &        NA   &        NA   &        NA   &         NA  &          NA\\\\\n",
       "\t 0.95        &         NA  &        NA   &        NA   &        NA   &         NA  &          NA\\\\\n",
       "\t 1.00        &         NA  &        NA   &        NA   &        NA   &         NA  &          NA\\\\\n",
       "\\end{tabular}\n"
      ],
      "text/markdown": [
       "\n",
       "cutoff | P10 | P01 | msclaf_cost | P11 | P00 | youden_index | \n",
       "|---|---|---|---|---|---|---|---|---|---|---|---|---|---|---|---|---|---|---|---|\n",
       "| 0.05        | 0.43589744  | 0.1233333   | 0.9951282   | 0.5641026   | 0.87666667  | 0.440769231 | \n",
       "| 0.10        | 0.35897436  | 0.1700000   | 0.8879487   | 0.6410256   | 0.83000000  | 0.471025641 | \n",
       "| 0.15        | 0.30769231  | 0.2066667   | 0.8220513   | 0.6923077   | 0.79333333  | 0.485641026 | \n",
       "| 0.20        | 0.30769231  | 0.2633333   | 0.8787179   | 0.6923077   | 0.73666667  | 0.428974359 | \n",
       "| 0.25        | 0.25641026  | 0.2866667   | 0.7994872   | 0.7435897   | 0.71333333  | 0.456923077 | \n",
       "| 0.30        | 0.23076923  | 0.3500000   | 0.8115385   | 0.7692308   | 0.65000000  | 0.419230769 | \n",
       "| 0.35        | 0.20512821  | 0.4066667   | 0.8169231   | 0.7948718   | 0.59333333  | 0.388205128 | \n",
       "| 0.40        | 0.15384615  | 0.4633333   | 0.7710256   | 0.8461538   | 0.53666667  | 0.382820513 | \n",
       "| 0.45        | 0.12820513  | 0.5166667   | 0.7730769   | 0.8717949   | 0.48333333  | 0.355128205 | \n",
       "| 0.50        | 0.10256410  | 0.5700000   | 0.7751282   | 0.8974359   | 0.43000000  | 0.327435897 | \n",
       "| 0.55        | 0.07692308  | 0.6433333   | 0.7971795   | 0.9230769   | 0.35666667  | 0.279743590 | \n",
       "| 0.60        | 0.07692308  | 0.7366667   | 0.8905128   | 0.9230769   | 0.26333333  | 0.186410256 | \n",
       "| 0.65        | 0.07692308  | 0.8433333   | 0.9971795   | 0.9230769   | 0.15666667  | 0.079743590 | \n",
       "| 0.70        | 0.05128205  | 0.9433333   | 1.0458974   | 0.9487179   | 0.05666667  | 0.005384615 | \n",
       "| 0.75        |         NA  |        NA   |        NA   |        NA   |         NA  |          NA | \n",
       "| 0.80        |         NA  |        NA   |        NA   |        NA   |         NA  |          NA | \n",
       "| 0.85        |         NA  |        NA   |        NA   |        NA   |         NA  |          NA | \n",
       "| 0.90        |         NA  |        NA   |        NA   |        NA   |         NA  |          NA | \n",
       "| 0.95        |         NA  |        NA   |        NA   |        NA   |         NA  |          NA | \n",
       "| 1.00        |         NA  |        NA   |        NA   |        NA   |         NA  |          NA | \n",
       "\n",
       "\n"
      ],
      "text/plain": [
       "      cutoff P10        P01       msclaf_cost P11       P00        youden_index\n",
       " [1,] 0.05   0.43589744 0.1233333 0.9951282   0.5641026 0.87666667 0.440769231 \n",
       " [2,] 0.10   0.35897436 0.1700000 0.8879487   0.6410256 0.83000000 0.471025641 \n",
       " [3,] 0.15   0.30769231 0.2066667 0.8220513   0.6923077 0.79333333 0.485641026 \n",
       " [4,] 0.20   0.30769231 0.2633333 0.8787179   0.6923077 0.73666667 0.428974359 \n",
       " [5,] 0.25   0.25641026 0.2866667 0.7994872   0.7435897 0.71333333 0.456923077 \n",
       " [6,] 0.30   0.23076923 0.3500000 0.8115385   0.7692308 0.65000000 0.419230769 \n",
       " [7,] 0.35   0.20512821 0.4066667 0.8169231   0.7948718 0.59333333 0.388205128 \n",
       " [8,] 0.40   0.15384615 0.4633333 0.7710256   0.8461538 0.53666667 0.382820513 \n",
       " [9,] 0.45   0.12820513 0.5166667 0.7730769   0.8717949 0.48333333 0.355128205 \n",
       "[10,] 0.50   0.10256410 0.5700000 0.7751282   0.8974359 0.43000000 0.327435897 \n",
       "[11,] 0.55   0.07692308 0.6433333 0.7971795   0.9230769 0.35666667 0.279743590 \n",
       "[12,] 0.60   0.07692308 0.7366667 0.8905128   0.9230769 0.26333333 0.186410256 \n",
       "[13,] 0.65   0.07692308 0.8433333 0.9971795   0.9230769 0.15666667 0.079743590 \n",
       "[14,] 0.70   0.05128205 0.9433333 1.0458974   0.9487179 0.05666667 0.005384615 \n",
       "[15,] 0.75           NA        NA        NA          NA         NA          NA \n",
       "[16,] 0.80           NA        NA        NA          NA         NA          NA \n",
       "[17,] 0.85           NA        NA        NA          NA         NA          NA \n",
       "[18,] 0.90           NA        NA        NA          NA         NA          NA \n",
       "[19,] 0.95           NA        NA        NA          NA         NA          NA \n",
       "[20,] 1.00           NA        NA        NA          NA         NA          NA "
      ]
     },
     "metadata": {},
     "output_type": "display_data"
    }
   ],
   "source": [
    "for (i in seq(0.05, 1, .05)) {\n",
    "  predicted_status_df = rep(\"No\", n)\n",
    "  predicted_status_df[gaussian_model_test_df$JointProb < i] = \"Yes\"\n",
    "  tbl <- table(gaussian_model_test_df$Actual.Status, predicted_status_df)\n",
    "  if ( i <= 1) {\n",
    "    #Classifying Not Joined as Joined\n",
    "    P10[20*i] <- tbl[2]/(tbl[2] + tbl[4])\n",
    "\n",
    "    P11[20*i] <- tbl[4]/(tbl[2] + tbl[4])\n",
    "\n",
    "    #Classifying Joined as Not Joined\n",
    "    P01[20*i] <- tbl[3]/(tbl[1] + tbl[3])\n",
    "\n",
    "    P00[20*i] <- tbl[1]/(tbl[1] + tbl[3])\n",
    "\n",
    "    cutoff[20*i] <- i\n",
    "    msclaf_cost[20*i] <- P10[20*i]*costs[2] + P01[20*i]*costs[3]\n",
    "    youden_index[20*i] <- P11[20*i] + P00[20*i] - 1\n",
    "  }\n",
    "}\n",
    "cost_table_df <- cbind(cutoff,P10,P01,msclaf_cost, P11, P00, youden_index)\n",
    "cost_table_df"
   ]
  },
  {
   "cell_type": "markdown",
   "metadata": {},
   "source": [
    "\n",
    "## Model Statistics\n",
    "\n"
   ]
  },
  {
   "cell_type": "code",
   "execution_count": 17,
   "metadata": {
    "Rmd_chunk_options": "modelValidation, echo=FALSE,tidy=TRUE",
    "autoscroll": false
   },
   "outputs": [
    {
     "data": {
      "text/html": [
       "<table>\n",
       "<thead><tr><th></th><th scope=col>No</th><th scope=col>Yes</th><th scope=col>Sum</th></tr></thead>\n",
       "<tbody>\n",
       "\t<tr><th scope=row>No</th><td>214</td><td> 86</td><td>300</td></tr>\n",
       "\t<tr><th scope=row>Yes</th><td> 10</td><td> 29</td><td> 39</td></tr>\n",
       "\t<tr><th scope=row>Sum</th><td>224</td><td>115</td><td>339</td></tr>\n",
       "</tbody>\n",
       "</table>\n"
      ],
      "text/latex": [
       "\\begin{tabular}{r|lll}\n",
       "  & No & Yes & Sum\\\\\n",
       "\\hline\n",
       "\tNo & 214 &  86 & 300\\\\\n",
       "\tYes &  10 &  29 &  39\\\\\n",
       "\tSum & 224 & 115 & 339\\\\\n",
       "\\end{tabular}\n"
      ],
      "text/markdown": [
       "\n",
       "| <!--/--> | No | Yes | Sum | \n",
       "|---|---|---|\n",
       "| No | 214 |  86 | 300 | \n",
       "| Yes |  10 |  29 |  39 | \n",
       "| Sum | 224 | 115 | 339 | \n",
       "\n",
       "\n"
      ],
      "text/plain": [
       "     \n",
       "      No  Yes Sum\n",
       "  No  214  86 300\n",
       "  Yes  10  29  39\n",
       "  Sum 224 115 339"
      ]
     },
     "metadata": {},
     "output_type": "display_data"
    },
    {
     "data": {
      "text/html": [
       "0.716814159292035"
      ],
      "text/latex": [
       "0.716814159292035"
      ],
      "text/markdown": [
       "0.716814159292035"
      ],
      "text/plain": [
       "[1] 0.7168142"
      ]
     },
     "metadata": {},
     "output_type": "display_data"
    }
   ],
   "source": [
    "#variable with all the values as No\n",
    "n <- length(gaussian_model_test_df$Actual.Status)\n",
    "\n",
    "predicted_status_df = rep(\"No\", n)\n",
    "\n",
    "# Changing the Status to Manipulator = Yes if probability is less than threshold\n",
    "predicted_status_df[gaussian_model_test_df$JointProb < 0.25] = \"Yes\"\n",
    "\n",
    "#add the model_precition in the data\n",
    "gaussian_model_test_df$predicted_status_df <- predicted_status_df\n",
    "\n",
    "###Create the confusionmatrix###\n",
    "addmargins(table(gaussian_model_test_df$Actual.Status, gaussian_model_test_df$predicted_status_df))\n",
    "mean(gaussian_model_test_df$predicted_status_df == gaussian_model_test_df$Actual.Status)"
   ]
  },
  {
   "cell_type": "markdown",
   "metadata": {},
   "source": [
    "\n",
    "End of document\n",
    "\n",
    "***\n"
   ]
  }
 ],
 "metadata": {
  "Rmd_header": {
   "author": "Kumar Rahul",
   "date": "23 May 2017",
   "output": "word_document",
   "title": "Analysis of the Company Financial Manipulations"
  },
  "kernelspec": {
   "display_name": "R",
   "language": "R",
   "name": "ir"
  },
  "language_info": {
   "codemirror_mode": "r",
   "file_extension": ".r",
   "mimetype": "text/x-r-source",
   "name": "R",
   "pygments_lexer": "r",
   "version": "3.4.3"
  }
 },
 "nbformat": 4,
 "nbformat_minor": 1
}
