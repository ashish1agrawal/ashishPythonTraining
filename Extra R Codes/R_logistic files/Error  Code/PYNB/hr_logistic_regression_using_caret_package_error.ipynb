{
 "cells": [
  {
   "cell_type": "markdown",
   "metadata": {},
   "source": [
    "\n",
    "## In this exercise, we will use the HR dataset and understand the following using caret package:\n",
    "\n",
    "> 1. Building the logistic regression model\n",
    "2. What is marked as the positive class by the model when using caret package\n",
    "3. Writing the model equation and interpreting the model summary\n",
    "4. Creating the Confusion Matrix and ROC plot on train data\n",
    "5. Using mis-classification cost as a criteria to select the best cut-off\n",
    "6. Using Younden Index as the criteria to select the best cut-off\n",
    "7. Creating the Confusion Matrix and ROC plot on test data\n",
    "8. Compare and discuss the result of logistic regression using caret vis-a-via stats package\n",
    "9. Changing the base or reference category and evaluate the impact on the model (This is self work/assignment)\n",
    "10. Change the cut-off value for train data in caret package (This is self work/assignment)\n",
    "\n",
    "There are bugs/missing code in the entire exercise. The participants are expected to work upon them.\n",
    "***\n",
    "***\n",
    "\n",
    "## Here are some useful links:\n",
    "\n",
    "> 1. **[Read](http://www.ats.ucla.edu/stat/mult_pkg/faq/general/dummy.htm)** about interaction variable coding\n",
    "2. Refer **[link](http://www.statmethods.net/input/valuelabels.html)** to know about adding lables to factors\n",
    "3. Refer **[link](http://stackoverflow.com/questions/2342472/recode-relevel-data-frame-factors-with-different-levels)** to relvel factor variables\n",
    "4. **[Read](http://stats.stackexchange.com/questions/88485/variable-is-significant-through-stepwise-regression-but-not-in-final-models-sum)** about the issues in stepwise regression\n",
    "5. **[Read](http://topepo.github.io/caret/training.html)** about the modelling activity via caret package\n",
    "6. The **[complete](http://topepo.github.io/caret/modelList.html)** list of tuning parameter for different models in caret package\n",
    "\n",
    "\n",
    "***\n",
    "\n",
    "# Code starts here\n",
    "We are going to use below mentioned libraries for demonstrating logistic regression:\n",
    "\n"
   ]
  },
  {
   "cell_type": "code",
   "execution_count": null,
   "metadata": {
    "Rmd_chunk_options": "libraries, echo=TRUE, message=FALSE, warning=FALSE",
    "autoscroll": false,
    "collapsed": true
   },
   "outputs": [],
   "source": [
    "library(caret)    #for data partition. Model building\n",
    "library(ROCR)     #for ROC plot (other way)"
   ]
  },
  {
   "cell_type": "markdown",
   "metadata": {},
   "source": [
    "\n",
    "## Data Import and Manipulation\n",
    "\n",
    "### 1. Importing a data set\n",
    "\n",
    "_Give the correct path to the data_\n"
   ]
  },
  {
   "cell_type": "code",
   "execution_count": null,
   "metadata": {
    "Rmd_chunk_options": "readData, echo=TRUE,tidy=TRUE",
    "autoscroll": false,
    "collapsed": true
   },
   "outputs": [],
   "source": [
    "raw.data <- read.csv(\"/Users/Rahul/Documents/Datasets/HR_data.csv\", header = TRUE,sep = \",\",na.strings = c(\"\",\" \", \"NA\"))"
   ]
  },
  {
   "cell_type": "markdown",
   "metadata": {},
   "source": [
    "\n",
    "Note that `echo = FALSE` parameter prevents printing the R code that generated the\n",
    "plot.\n",
    "\n",
    "### 2. Structure and Summary of the dataset\n",
    "\n"
   ]
  },
  {
   "cell_type": "code",
   "execution_count": null,
   "metadata": {
    "Rmd_chunk_options": "summarizeData, echo=TRUE,tidy=TRUE",
    "autoscroll": false,
    "collapsed": true
   },
   "outputs": [],
   "source": [
    "str(raw.data)\n",
    "summary(raw.data)"
   ]
  },
  {
   "cell_type": "markdown",
   "metadata": {},
   "source": [
    "\n",
    "\n",
    "Create a new data frame and store the raw data copy. This is being done to have a copy of the raw data intact for further manipulation if needed.\n",
    "\n"
   ]
  },
  {
   "cell_type": "code",
   "execution_count": null,
   "metadata": {
    "Rmd_chunk_options": "createDataCopy, echo=TRUE,tidy=TRUE",
    "autoscroll": false,
    "collapsed": true
   },
   "outputs": [],
   "source": [
    "filter.data <- na.omit(raw.data) # listwise deletion of missing"
   ]
  },
  {
   "cell_type": "markdown",
   "metadata": {},
   "source": [
    "\n",
    "### 3. Create train and test dataset\n",
    "\n",
    "#### Reserve 80% for **_training_** and 20% of **_test_**\n",
    "\n",
    "_Correct the error in the below code chunk_\n"
   ]
  },
  {
   "cell_type": "code",
   "execution_count": null,
   "metadata": {
    "Rmd_chunk_options": "createDataPartition, echo=TRUE,tidy=TRUE",
    "autoscroll": false,
    "collapsed": true
   },
   "outputs": [],
   "source": [
    "set.seed(2341)\n",
    "trainIndex <- createDataPartition(filter.data$Status, p = 0.20, list = FALSE)\n",
    "data.train <- filter.data[trainIndex,]\n",
    "data.test <- filter.data[trainIndex,]"
   ]
  },
  {
   "cell_type": "markdown",
   "metadata": {},
   "source": [
    "\n",
    "We can pull the specific attribute needed to build the model is another data frame. This agian is more of a hygine practice to not touch the **train** and **test** data set directly.\n",
    "\n",
    "_Correct the error in the below code chunk_\n"
   ]
  },
  {
   "cell_type": "code",
   "execution_count": null,
   "metadata": {
    "Rmd_chunk_options": "variableUsedinTraining, echo=TRUE,tidy=TRUE",
    "autoscroll": false,
    "collapsed": true
   },
   "outputs": [],
   "source": [
    "lg.train.data <- as.data.frame(data.train[,c(\"DOJ.Extended\",\n",
    "                                             \"Duration.to.accept.offer\",\n",
    "                                             \"Notice.period\",\n",
    "                                             \"Offered.band\",\n",
    "                                             \"Percent.difference\",\n",
    "                                             \"Joining.Bonus\",\n",
    "                                             \"Gender\",\n",
    "                                             \"Candidate.Source\",\n",
    "                                             \"Rex.in.Yrs\",\n",
    "                                             \"LOB\",\n",
    "                                             \"Locationoffered\",\n",
    "                                             \"Age\",\n",
    "                                             \"Status\"\n",
    ")])"
   ]
  },
  {
   "cell_type": "markdown",
   "metadata": {},
   "source": [
    "\n",
    "_Correct the error in the below code chunk_\n"
   ]
  },
  {
   "cell_type": "code",
   "execution_count": null,
   "metadata": {
    "Rmd_chunk_options": "variableUsedinTesting, echo=TRUE, tidy=TRUE",
    "autoscroll": false,
    "collapsed": true
   },
   "outputs": [],
   "source": [
    "lg.test.data <- as.data.frame(data.test[,c(\"DOJ.Extended\",\n",
    "                                           \"Duration.to.accept.offer\",\n",
    "                                           \"Notice.period\",\n",
    "                                           \"Offered.band\",\n",
    "                                           \"Percent.difference\",\n",
    "                                           \"Joining.Bonus\",\n",
    "                                           \"Gender\",\n",
    "                                           \"Candidate.Source\",\n",
    "                                           \"Rex.in.Yrs\",\n",
    "                                           \"LOB\",\n",
    "                                           \"Locationoffered\",\n",
    "                                           \"Age\",\n",
    "                                           \"Status\"\n",
    ")])"
   ]
  },
  {
   "cell_type": "markdown",
   "metadata": {},
   "source": [
    "\n",
    "***\n",
    "\n",
    "## Model Building: Using the **caret()** package\n",
    "There are a number of models which can be built using caret package. To get the names of all the models possible.\n",
    "\n"
   ]
  },
  {
   "cell_type": "code",
   "execution_count": null,
   "metadata": {
    "Rmd_chunk_options": "caretModelInfo, echo=TRUE",
    "autoscroll": false,
    "collapsed": true
   },
   "outputs": [],
   "source": [
    "names(getModelInfo())"
   ]
  },
  {
   "cell_type": "markdown",
   "metadata": {},
   "source": [
    "\n",
    "To get the info on specific model:\n",
    "\n"
   ]
  },
  {
   "cell_type": "code",
   "execution_count": null,
   "metadata": {
    "Rmd_chunk_options": "caretModelType, echo=TRUE",
    "autoscroll": false,
    "collapsed": true
   },
   "outputs": [],
   "source": [
    "getModelInfo()$glmnet$type"
   ]
  },
  {
   "cell_type": "markdown",
   "metadata": {},
   "source": [
    "\n",
    "The below chunk of code is standarized way of building model using caret package. Setting in the control parameters for the model.\n",
    "\n"
   ]
  },
  {
   "cell_type": "code",
   "execution_count": null,
   "metadata": {
    "Rmd_chunk_options": "caretControl, echo=TRUE",
    "autoscroll": false,
    "collapsed": true
   },
   "outputs": [],
   "source": [
    "objControl <- trainControl(method = \"cv\", number = 2, returnResamp = 'final',\n",
    "                           summaryFunction = twoClassSummary,\n",
    "                           #summaryFunction = twoClassSummary, defaultSummary\n",
    "                           classProbs = TRUE,\n",
    "                           savePredictions = TRUE)"
   ]
  },
  {
   "cell_type": "markdown",
   "metadata": {},
   "source": [
    "\n",
    "The search grid is basically a model fine tuning option. The paramter inside the **expand.grid()** function varies according to model. The **[complete](http://topepo.github.io/caret/modelList.html)** list of tuning paramter for different models.\n",
    "\n"
   ]
  },
  {
   "cell_type": "code",
   "execution_count": null,
   "metadata": {
    "Rmd_chunk_options": "caretTune, echo=TRUE",
    "autoscroll": false,
    "collapsed": true
   },
   "outputs": [],
   "source": [
    "#Need not be executed if method  is glmStepAIC"
   ]
  },
  {
   "cell_type": "markdown",
   "metadata": {},
   "source": [
    "\n",
    "The model building starts here.\n",
    "> 1. **metric= \"ROC\"** uses ROC curve to select the best model.Accuracy, Kappa are other options. To use this change twoClassSummary to defaultSummary in **ObjControl**\n",
    "2. **verbose = FALSE**: does not show the processing output on console\n",
    "\n",
    "The factor names at times may not be consistent. R may expect **\"Not.Joined\"** but the actual level may be **\"Not Joined\"** This is corrected by using **make.names()** function to give syntactically valid names.\n",
    "\n"
   ]
  },
  {
   "cell_type": "code",
   "execution_count": null,
   "metadata": {
    "Rmd_chunk_options": "caretModel, echo=TRUE, message=FALSE, warning=FALSE",
    "autoscroll": false,
    "collapsed": true
   },
   "outputs": [],
   "source": [
    "#lg.train.data$StatusFactor <- as.factor(ifelse(lg.train.data$Status == \"Joined\", 1,0))\n",
    "set.seed(766)\n",
    "levels(lg.train.data$Status) <- make.names(levels(factor(lg.train.data$Status)))\n",
    "lgCaretModel <- train(lg.train.data[,1:12],\n",
    "                      lg.train.data[,13],\n",
    "                      method = 'glmStepAIC',\n",
    "                      trControl = objControl,\n",
    "                      metric = \"ROC\",\n",
    "                      verbose = FALSE)\n",
    "#tuneGrid = searchGrid)"
   ]
  },
  {
   "cell_type": "markdown",
   "metadata": {},
   "source": [
    "\n",
    "\n",
    "## Model Evaluation\n",
    "\n",
    "### 1. One useful plot from caret package is the variable importance plot\n",
    "\n"
   ]
  },
  {
   "cell_type": "code",
   "execution_count": null,
   "metadata": {
    "Rmd_chunk_options": "caretVarImp, echo=TRUE",
    "autoscroll": false,
    "collapsed": true
   },
   "outputs": [],
   "source": [
    "summary(lgCaretModel)\n",
    "plot(varImp(lgCaretModel, scale = TRUE))"
   ]
  },
  {
   "cell_type": "markdown",
   "metadata": {},
   "source": [
    "\n",
    "\n",
    "### 2. The prediction and confusion Matrix on train data.\n",
    "\n",
    "The syntax for prediction in caret is almost similar expect the the **type** attribute expects input as **'raw'** or **'prob'**. In case of prob, the predicted value holds the probability of both positive and negative class.\n",
    "\n"
   ]
  },
  {
   "cell_type": "code",
   "execution_count": null,
   "metadata": {
    "Rmd_chunk_options": "caretPrediction, echo=TRUE",
    "autoscroll": false,
    "collapsed": true
   },
   "outputs": [],
   "source": [
    "#Missing code. May result in error\n",
    "caretPredictedClass <- predict(object = lgCaretModel, lg.train.data[,1:12], type = 'raw')\n",
    "confusionMatrix(caretPredictedClass,lg.train.data$Status)"
   ]
  },
  {
   "cell_type": "markdown",
   "metadata": {},
   "source": [
    "\n",
    "### 3. The optimal cut-off\n",
    "\n"
   ]
  },
  {
   "cell_type": "code",
   "execution_count": null,
   "metadata": {
    "Rmd_chunk_options": "variableDeclaration, include=FALSE",
    "autoscroll": false,
    "collapsed": true
   },
   "outputs": [],
   "source": [
    "#creating empty vectors to store the results.\n",
    "msclaf.cost <- c()\n",
    "youden.index <- c()\n",
    "cutoff <- c()\n",
    "P11 <- c() #correct classification of positive as positive\n",
    "P00 <- c() #correct classification of negative as negative\n",
    "P10 <- c() #misclassification of positive class to negative class\n",
    "P01 <- c() #misclassification of negative class to positive class"
   ]
  },
  {
   "cell_type": "markdown",
   "metadata": {},
   "source": [
    "\n",
    "####Select the optimal cut-off value, if:\n",
    "\n",
    "> 1. cost of misclassifying Not Joined as Joined is twice as costly as cost of\n",
    "micalssifying Joined as Not Joined\n",
    "2. both sensitivity and specificity are equally important\n",
    "\n",
    "The best cut-off is the one which minimizes the misclassification cost (in case of **_option 1_**) or which maximizes the Youden's Index (in case of **_Option 2_**).\n",
    "\n",
    "_fix the bug here_: clue is in the above **two options**\n"
   ]
  },
  {
   "cell_type": "code",
   "execution_count": null,
   "metadata": {
    "Rmd_chunk_options": "modelOptimalCutOff, echo=FALSE,tidy=TRUE",
    "autoscroll": false,
    "collapsed": true
   },
   "outputs": [],
   "source": [
    "lgCaretTrainPredictedProbability = predict(object = lgCaretModel, lg.train.data[,1:12], type = 'prob')\n",
    "#variable with all the values as joined\n",
    "n <- length(lg.train.data$Status)\n",
    "\n",
    "costs = matrix(c(0,2,1, 0), ncol = 2)\n",
    "colnames(costs) = rownames(costs) = c(\"Joined\", \"Non Joined\")\n",
    "as.table(costs)"
   ]
  },
  {
   "cell_type": "markdown",
   "metadata": {},
   "source": [
    "\n",
    "The misclassification cost table is:\n",
    "\n"
   ]
  },
  {
   "cell_type": "code",
   "execution_count": null,
   "metadata": {
    "Rmd_chunk_options": "costCal, echo=TRUE, tidy=TRUE",
    "autoscroll": false,
    "collapsed": true
   },
   "outputs": [],
   "source": [
    "# defining log odds in favor of Joined\n",
    "for (i in seq(0.05, 1, .05)) {\n",
    "  predicted.y = rep(\"Not Joined\", n)\n",
    "  predicted.y[lgCaretTrainPredictedProbability[1] > i] = \"Joined\"\n",
    "  tbl <- table(lg.train.data$Status, predicted.y)\n",
    "  if ( i <= 1) {\n",
    "    #Classifying Not Joined as Joined\n",
    "    P10[20*i] <- tbl[2]/(tbl[2] + tbl[4])\n",
    "\n",
    "    P11[20*i] <- tbl[4]/(tbl[2] + tbl[4])\n",
    "\n",
    "    #Classifying Joined as Not Joined\n",
    "    P01[20*i] <- tbl[3]/(tbl[1] + tbl[3])\n",
    "\n",
    "    P00[20*i] <- tbl[1]/(tbl[1] + tbl[3])\n",
    "\n",
    "    cutoff[20*i] <- i\n",
    "    msclaf.cost[20*i] <- P10[20*i]*costs[2] + P01[20*i]*costs[3]\n",
    "    youden.index[20*i] <- P11[20*i] + P00[20*i] - 1\n",
    "  }\n",
    "}\n",
    "df.cost.table <- cbind(cutoff,P10,P01,msclaf.cost, P11, P00, youden.index)"
   ]
  },
  {
   "cell_type": "markdown",
   "metadata": {},
   "source": [
    "\n",
    "The table summarizing the optimal cut-off value:\n",
    "\n",
    "_write the cost.table into a csv file_\n"
   ]
  },
  {
   "cell_type": "code",
   "execution_count": null,
   "metadata": {
    "Rmd_chunk_options": "modelOptimalCutoffTable, echo=FALSE",
    "autoscroll": false,
    "collapsed": true
   },
   "outputs": [],
   "source": [
    "df.cost.table\n",
    "#Missing code"
   ]
  },
  {
   "cell_type": "markdown",
   "metadata": {},
   "source": [
    "\n",
    "### 3. Confusion Matrix on the test data\n",
    "\n",
    "The **predict** function is used to get the predicted probability on the new dataset. The probability value along with the optimal cut-off can be used to build confusion matrix\n",
    "\n"
   ]
  },
  {
   "cell_type": "code",
   "execution_count": null,
   "metadata": {
    "Rmd_chunk_options": "modelValidation, echo=FALSE,tidy=TRUE",
    "autoscroll": false,
    "collapsed": true
   },
   "outputs": [],
   "source": [
    "lgCaretTestPredictedProbability = predict(lgCaretModel, lg.test.data, type = \"prob\")\n",
    "\n",
    "#variable with all the values as joined\n",
    "n <- length(lg.test.data$Status)\n",
    "predicted.y = rep(\"Not Joined\", n)\n",
    "\n",
    "# defining log odds in favor of not joining\n",
    "predicted.y[lgCaretTestPredictedProbability[1] > 0.60] = \"Joined\"\n",
    "\n",
    "#add the model_precition in the data\n",
    "lg.test.data$predicted.y <- predicted.y\n",
    "\n",
    "###Create the confusionmatrix###\n",
    "addmargins(table(lg.test.data$Status, lg.test.data$predicted.y))\n",
    "mean(lg.test.data$predicted.y == lg.test.data$Status)"
   ]
  },
  {
   "cell_type": "markdown",
   "metadata": {},
   "source": [
    "\n",
    "\n",
    "### 4. ROC Plot on the test data\n",
    "\n",
    "ROCR package can be used to evaluate the model performace on the test data. The same package can also be used to get the model performace on the test data.\n",
    "\n"
   ]
  },
  {
   "cell_type": "code",
   "execution_count": null,
   "metadata": {
    "Rmd_chunk_options": "validationROC, echo=FALSE,tidy=TRUE",
    "autoscroll": false,
    "collapsed": true
   },
   "outputs": [],
   "source": [
    "#Missing code. May result in error.\n",
    "lgPredObj <- prediction(lgCaretTestPredictedProbability[2],lg.test.data$Status)\n",
    "lgPerfObj <- performance(lgPredObj, \"tpr\",\"fpr\")\n",
    "plot(lgPerfObj,main = \"ROC Curve\",col = 2,lwd = 2)\n",
    "abline(a = 0,b = 1,lwd = 2,lty = 3,col = \"black\")\n",
    "performance(lgPredObj, \"auc\")"
   ]
  },
  {
   "cell_type": "markdown",
   "metadata": {},
   "source": [
    "\n",
    "\n",
    "#### End of Document\n",
    "\n",
    "***\n",
    "***\n"
   ]
  }
 ],
 "metadata": {
  "Rmd_header": {
   "author": "Kumar Rahul",
   "date": "12 September 2016",
   "output": "word_document",
   "title": "Logistic Regression Using Caret Package"
  },
  "kernelspec": {
   "display_name": "R",
   "language": "R",
   "name": "ir"
  },
  "language_info": {
   "codemirror_mode": "r",
   "file_extension": ".r",
   "mimetype": "text/x-r-source",
   "name": "R",
   "pygments_lexer": "r"
  }
 },
 "nbformat": 4,
 "nbformat_minor": 0
}
