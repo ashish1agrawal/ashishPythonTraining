{
 "cells": [
  {
   "cell_type": "markdown",
   "metadata": {},
   "source": [
    "\n",
    "## In this exercise, we will use the HR dataset and understand the following:\n",
    "\n",
    "> 1. Building the logistic regression model\n",
    "2. Writing the model equation and interpreting the model summary\n",
    "3. Finding the variable which is leading to quasi complete seperation\n",
    "4. Creating the Confusion Matrix and ROC plot on train data (This is self work/assignment)\n",
    "5. Using mis-classification cost as a criteria to select the best cut-off\n",
    "6. Using Younden Index as the criteria to select the best cut-off\n",
    "7. Creating the Confusion Matrix and ROC plot on test data\n",
    "8. Changing the base or reference category and evaluate the impact on the model\n",
    "\n",
    "There are bugs/missing code in the entire exercise. The participants are expected to work upon them.\n",
    "***\n",
    "***\n",
    "\n",
    "## Here are some useful links:\n",
    "\n",
    "> 1. **[Read](http://www.ats.ucla.edu/stat/mult_pkg/faq/general/dummy.htm)** about interaction variable coding\n",
    "2. Refer **[link](http://www.statmethods.net/input/valuelabels.html)** to know about adding lables to factors\n",
    "3. Refer **[link](http://stackoverflow.com/questions/2342472/recode-relevel-data-frame-factors-with-different-levels)** to relvel factor variables\n",
    "4. **[Read](http://stats.stackexchange.com/questions/88485/variable-is-significant-through-stepwise-regression-but-not-in-final-models-sum)** about the issues in stepwise regression\n",
    "5. **[Read](http://www.ats.ucla.edu/stat/mult_pkg/faq/general/complete_separation_logit_models.htm)** about the issue of Quasi seperation\n",
    "\n",
    "***\n",
    "\n",
    "# Code starts here\n",
    "\n",
    "We are going to use below mentioned libraries for demonstrating logistic regression:\n",
    "\n"
   ]
  },
  {
   "cell_type": "code",
   "execution_count": null,
   "metadata": {
    "Rmd_chunk_options": "libraries, echo=TRUE, message=FALSE, warning=FALSE",
    "autoscroll": false,
    "collapsed": true
   },
   "outputs": [],
   "source": [
    "library(stats)    #for binary logistic without wald statistics\n",
    "#library(Deducer)  #for ROC plot\n",
    "library(ROCR)     #for ROC plot (other way)\n",
    "library(caret)    #for data partition. Model building\n",
    "library(ResourceSelection) #Hosmer lemeshow GoF test"
   ]
  },
  {
   "cell_type": "markdown",
   "metadata": {},
   "source": [
    "\n",
    "## Data Import and Manipulation\n",
    "\n",
    "### 1. Importing a data set\n",
    "\n",
    "_Give the correct path to the data_\n"
   ]
  },
  {
   "cell_type": "code",
   "execution_count": null,
   "metadata": {
    "Rmd_chunk_options": "readData, echo=TRUE,tidy=TRUE",
    "autoscroll": false,
    "collapsed": true
   },
   "outputs": [],
   "source": [
    "raw.data <- read.csv(\"/Users/Rahul/Documents/Datasets/IMB533_HR_data.csv\", header = TRUE,sep = \",\",na.strings = c(\"\",\" \", \"NA\"))"
   ]
  },
  {
   "cell_type": "markdown",
   "metadata": {},
   "source": [
    "\n",
    "Note that `echo = FALSE` parameter prevents printing the R code that generated the\n",
    "plot.\n",
    "\n",
    "### 2. Structure and Summary of the dataset\n",
    "\n"
   ]
  },
  {
   "cell_type": "code",
   "execution_count": null,
   "metadata": {
    "Rmd_chunk_options": "summarizeData, echo=TRUE,tidy=TRUE",
    "autoscroll": false,
    "collapsed": true
   },
   "outputs": [],
   "source": [
    "str(raw.data)\n",
    "summary(raw.data)"
   ]
  },
  {
   "cell_type": "markdown",
   "metadata": {},
   "source": [
    "\n",
    "\n",
    "Create a new data frame and store the raw data copy. This is being done to have a copy of the raw data intact for further manipulation if needed.\n",
    "\n"
   ]
  },
  {
   "cell_type": "code",
   "execution_count": null,
   "metadata": {
    "Rmd_chunk_options": "createDataCopy, echo=TRUE,tidy=TRUE",
    "autoscroll": false,
    "collapsed": true
   },
   "outputs": [],
   "source": [
    "filter.data <- na.omit(raw.data) # listwise deletion of missing"
   ]
  },
  {
   "cell_type": "markdown",
   "metadata": {},
   "source": [
    "\n",
    "### 3. Relevel\n",
    "\n",
    "By default, the base category/reference category selected is ordered alphabetically. In this data set, Status has two classes (Joined/Not Joined). Since 'J' appears first compared to 'N' in alphabet sequence, So Joined will be marked as the base category.\n",
    "\n",
    "The base category can be releveled using the function **relevel()**.\n",
    "\n"
   ]
  },
  {
   "cell_type": "code",
   "execution_count": null,
   "metadata": {
    "Rmd_chunk_options": "relevelCategory, echo=TRUE,tidy=TRUE",
    "autoscroll": false,
    "collapsed": true
   },
   "outputs": [],
   "source": [
    "#Missing Code"
   ]
  },
  {
   "cell_type": "markdown",
   "metadata": {},
   "source": [
    "\n",
    "\n",
    "### 4. Create train and test dataset\n",
    "\n",
    "#### Reserve 80% for **_training_** and 20% of **_test_**\n",
    "\n",
    "_Correct the error in the below code chunk_\n"
   ]
  },
  {
   "cell_type": "code",
   "execution_count": null,
   "metadata": {
    "Rmd_chunk_options": "createDataPartition, echo=TRUE,tidy=TRUE",
    "autoscroll": false,
    "collapsed": true
   },
   "outputs": [],
   "source": [
    "set.seed(2341)\n",
    "trainIndex <- createDataPartition(filter.data, p = 0.20, list = FALSE)\n",
    "data.train <- filter.data[trainIndex,]\n",
    "data.test <- filter.data[-trainIndex,]"
   ]
  },
  {
   "cell_type": "markdown",
   "metadata": {},
   "source": [
    "\n",
    "We can pull the specific attribute needed to build the model is another data frame. This agian is more of a hygine practice to not touch the **train** and **test** data set directly.\n",
    "\n",
    "_Correct the error in the below code chunk_\n"
   ]
  },
  {
   "cell_type": "code",
   "execution_count": null,
   "metadata": {
    "Rmd_chunk_options": "variableUsedinTraining, echo=TRUE,tidy=TRUE",
    "autoscroll": false,
    "collapsed": true
   },
   "outputs": [],
   "source": [
    "lg.train.data <- as.data.frame(data.train[,c(\"DOJ.Extended\",\n",
    "                                             \"Duration.to.accept.offer\",\n",
    "                                             \"Notice.period\",\n",
    "                                             \"Offered.band\",\n",
    "                                             \"Percent.difference\",\n",
    "                                             \"Joining.Bonus\",\n",
    "                                             \"Candidate.relocate.actual\",\n",
    "                                             \"Gender\",\n",
    "                                             \"CandidateSource\",\n",
    "                                             \"Rex.in.Yrs\",\n",
    "                                             \"LOB\",\n",
    "                                             \"Location.offered\",\n",
    "                                             \"Age\",\n",
    "                                             \"Status\"\n",
    ")])"
   ]
  },
  {
   "cell_type": "markdown",
   "metadata": {},
   "source": [
    "\n",
    "_Correct the error in the below code chunk_\n"
   ]
  },
  {
   "cell_type": "code",
   "execution_count": null,
   "metadata": {
    "Rmd_chunk_options": "variableUsedinTesting, echo=TRUE, tidy=TRUE",
    "autoscroll": false,
    "collapsed": true
   },
   "outputs": [],
   "source": [
    "lg.test.data <- as.data.frame(data.test[,c(\"DOJ.Extended\",\n",
    "                                           \"Duration.to.accept.offer\",\n",
    "                                           \"Notice.period\",\n",
    "                                           \"Offered.band\",\n",
    "                                           \"Percent.difference\",\n",
    "                                           \"Joining.Bonus\",\n",
    "                                           \"Candidate.relocate.actual\",\n",
    "                                           \"Gender\",\n",
    "                                           \"CandidateSource\",\n",
    "                                           \"Rex.in.Yrs\",\n",
    "                                           \"LOB\",\n",
    "                                           \"Location.offered\",\n",
    "                                           \"Age\",\n",
    "                                           \"Status\"\n",
    ")])"
   ]
  },
  {
   "cell_type": "markdown",
   "metadata": {},
   "source": [
    "\n",
    "***\n",
    "\n",
    "## Model building: Using the **glm()** function\n",
    "\n",
    "The actual model building starts now. Note that we are demonstrating the strategy of building a step wise model (forward selection and backward elimination)  using the glm function\n",
    "\n",
    "_Correct the error in the below code chunk_\n"
   ]
  },
  {
   "cell_type": "code",
   "execution_count": null,
   "metadata": {
    "Rmd_chunk_options": "buildModel, echo=TRUE, message=FALSE, warning=FALSE, tidy=TRUE",
    "autoscroll": false,
    "collapsed": true
   },
   "outputs": [],
   "source": [
    "#Null Model\n",
    "noModel <- glm(Status ~ 1,data = lg.train.data, family = binomial)\n",
    "\n",
    "#Full Model\n",
    "lgGlmModelFull = glm(Status ~ .\n",
    "                     , data = lg.test.data, family = binomial)\n",
    "\n",
    "#Stepwise - Forward selection backward elimination\n",
    "lgGlmModelStepwise <- step(noModel, list(lower = formula(noModel),\n",
    "                                         upper = formula(lgGlmModelFull)),\n",
    "                           direction = \"both\",trace = 0)"
   ]
  },
  {
   "cell_type": "markdown",
   "metadata": {},
   "source": [
    "\n",
    "\n",
    "***\n",
    "\n",
    "## Model Evaluation\n",
    "\n",
    "### 1. ROC plot and Model summary of Train Data\n",
    "\n",
    "Checking the hosmer lemeshow value and the ROC plot using the deducer package. Note that this evaluation is on training data.\n",
    "\n"
   ]
  },
  {
   "cell_type": "code",
   "execution_count": null,
   "metadata": {
    "Rmd_chunk_options": "modelROC,tidy=TRUE",
    "autoscroll": false,
    "collapsed": true
   },
   "outputs": [],
   "source": [
    "hoslem.test(lgGlmModelStepwise$y, fitted(lgGlmModelStepwise)) #Hosmer lemeshow test\n",
    "#rocplot(lgGlmModelStepwise)\n",
    "summary(lgGlmModelStepwise)"
   ]
  },
  {
   "cell_type": "markdown",
   "metadata": {},
   "source": [
    "\n",
    "\n",
    "### 2. The optimal cut-off\n",
    "\n"
   ]
  },
  {
   "cell_type": "code",
   "execution_count": null,
   "metadata": {
    "Rmd_chunk_options": "variableDeclaration, include=FALSE",
    "autoscroll": false,
    "collapsed": true
   },
   "outputs": [],
   "source": [
    "#creating empty vectors to store the results.\n",
    "msclaf.cost <- c()\n",
    "youden.index <- c()\n",
    "cutoff <- c()\n",
    "P11 <- c() #correct classification of positive as positive\n",
    "P00 <- c() #correct classification of negative as negative\n",
    "P10 <- c() #misclassification of positive class to negative class\n",
    "P01 <- c() #misclassification of negative class to positive class"
   ]
  },
  {
   "cell_type": "markdown",
   "metadata": {},
   "source": [
    "\n",
    "####Select the optimal cut-off value, if:\n",
    "> 1. cost of misclassifying Not Joined as Joined is twice as costly as cost of\n",
    "micalssifying Joined as Not Joined\n",
    "2. both sensitivity and specificity are equally important\n",
    "\n",
    "The best cut-off is the one which minimizes the misclassification cost (in case of **_option 1_**) or which maximizes the Youden's Index (in case of **_Option 2_**). The misclassification cost table is\n",
    "\n",
    "_fix the bug here_: clue is in the above **two options**\n"
   ]
  },
  {
   "cell_type": "code",
   "execution_count": null,
   "metadata": {
    "Rmd_chunk_options": "modelOptimalCutOff, echo=FALSE,tidy=TRUE",
    "autoscroll": false,
    "collapsed": true
   },
   "outputs": [],
   "source": [
    "lgGlmTrainPredictedProbability = predict.glm(lgGlmModelStepwise, lg.train.data, type = \"response\")\n",
    "#variable with all the values as joined\n",
    "n <- length(lg.train.data$Status)\n",
    "\n",
    "costs = matrix(c(0,2,1, 0), ncol = 2)\n",
    "colnames(costs) = rownames(costs) = c(\"Joined\", \"Non Joined\")\n",
    "as.table(costs)"
   ]
  },
  {
   "cell_type": "markdown",
   "metadata": {},
   "source": [
    "\n",
    "The misclassification cost table is:\n"
   ]
  },
  {
   "cell_type": "code",
   "execution_count": null,
   "metadata": {
    "Rmd_chunk_options": "costCal, echo=TRUE, tidy=TRUE",
    "autoscroll": false,
    "collapsed": true
   },
   "outputs": [],
   "source": [
    "# defining log odds in favor of Non Default\n",
    "for (i in seq(0.05, 1, .05)) {\n",
    "  predicted.y = rep(\"Joined\", n)\n",
    "  predicted.y[lgGlmTrainPredictedProbability > i] = \"Not Joined\"\n",
    "  tbl <- table(lg.train.data$Status, predicted.y)\n",
    "  if ( i <= 1) {\n",
    "    #Classifying Not Joined as Joined\n",
    "    P10[20*i] <- tbl[2]/(tbl[2] + tbl[4])\n",
    "\n",
    "    P11[20*i] <- tbl[4]/(tbl[2] + tbl[4])\n",
    "\n",
    "    #Classifying Joined as Not Joined\n",
    "    P01[20*i] <- tbl[3]/(tbl[1] + tbl[3])\n",
    "\n",
    "    P00[20*i] <- tbl[1]/(tbl[1] + tbl[3])\n",
    "\n",
    "    cutoff[20*i] <- i\n",
    "    msclaf.cost[20*i] <- P10[20*i]*costs[2] + P01[20*i]*costs[3]\n",
    "    youden.index[20*i] <- P11[20*i] + P00[20*i] - 1\n",
    "  }\n",
    "}\n",
    "df.cost.table <- cbind(cutoff,P10,P01,msclaf.cost, P11, P00, youden.index)"
   ]
  },
  {
   "cell_type": "markdown",
   "metadata": {},
   "source": [
    "\n",
    "The table summarizing the optimal cut-off value:\n",
    "\n",
    "_write the cost.table into a csv file_\n"
   ]
  },
  {
   "cell_type": "code",
   "execution_count": null,
   "metadata": {
    "Rmd_chunk_options": "modelOptimalCutoffTable, echo=FALSE",
    "autoscroll": false,
    "collapsed": true
   },
   "outputs": [],
   "source": [
    "df.cost.table\n",
    "#Missing Code"
   ]
  },
  {
   "cell_type": "markdown",
   "metadata": {},
   "source": [
    "\n",
    "\n",
    "### 3. Confusion Matrix on the test data\n",
    "\n",
    "The **predict** function is used to get the predicted probability on the new dataset. The probability value along with the optimal cut-off can be used to build confusion matrix\n",
    "\n"
   ]
  },
  {
   "cell_type": "code",
   "execution_count": null,
   "metadata": {
    "Rmd_chunk_options": "modelValidation, echo=FALSE,tidy=TRUE",
    "autoscroll": false,
    "collapsed": true
   },
   "outputs": [],
   "source": [
    "lgGlmTestPredictedProbability = predict(lgGlmModelStepwise, lg.test.data, type = \"response\")\n",
    "\n",
    "#variable with all the values as joined\n",
    "n <- length(lg.test.data$Status)\n",
    "predicted.y = rep(\"Joined\", n)\n",
    "\n",
    "# defining log odds in favor of not joining\n",
    "predicted.y[lgGlmTestPredictedProbability > 0.40] = \"Not Joined\"\n",
    "\n",
    "#add the model_precition in the data\n",
    "lg.test.data$predicted.y <- predicted.y\n",
    "\n",
    "###Create the confusionmatrix###\n",
    "addmargins(table(lg.test.data$Status, lg.test.data$predicted.y))\n",
    "mean(lg.test.data$predicted.y == lg.test.data$Status)"
   ]
  },
  {
   "cell_type": "markdown",
   "metadata": {},
   "source": [
    "\n",
    "\n",
    "### 4. ROC Plot on the test data\n",
    "\n",
    "ROCR package can be used to evaluate the model performace on the test data. The same package can also be used to get the model performace on the test data.\n",
    "\n"
   ]
  },
  {
   "cell_type": "code",
   "execution_count": null,
   "metadata": {
    "Rmd_chunk_options": "validationROC, echo=FALSE,tidy=TRUE",
    "autoscroll": false,
    "collapsed": true
   },
   "outputs": [],
   "source": [
    "lgPredObj <- prediction(lgGlmTestPredictedProbability,lg.test.data$Status)\n",
    "lgPerfObj <- performance(lgPredObj, \"tpr\",\"fpr\")\n",
    "plot(lgPerfObj,main = \"ROC Curve\",col = 2,lwd = 2)\n",
    "abline(a = 0,b = 1,lwd = 2,lty = 3,col = \"black\")\n",
    "performance(lgPredObj, \"auc\")"
   ]
  },
  {
   "cell_type": "markdown",
   "metadata": {},
   "source": [
    "\n",
    "\n",
    "#### End of Document\n",
    "\n",
    "***\n",
    "***\n"
   ]
  }
 ],
 "metadata": {
  "Rmd_header": {
   "author": "Kumar Rahul",
   "output": "word_document",
   "title": "Logistic Regression Using R"
  },
  "kernelspec": {
   "display_name": "R",
   "language": "R",
   "name": "ir"
  },
  "language_info": {
   "codemirror_mode": "r",
   "file_extension": ".r",
   "mimetype": "text/x-r-source",
   "name": "R",
   "pygments_lexer": "r"
  }
 },
 "nbformat": 4,
 "nbformat_minor": 0
}
