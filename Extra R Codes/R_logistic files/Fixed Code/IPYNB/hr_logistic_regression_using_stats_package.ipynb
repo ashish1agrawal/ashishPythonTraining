{
 "cells": [
  {
   "cell_type": "markdown",
   "metadata": {},
   "source": [
    "\n",
    "## In this exercise, we will use the HR dataset and understand the following:\n",
    "\n",
    "> 1. Building the logistic regression model\n",
    "2. Writing the model equation and interpreting the model summary\n",
    "3. Finding the variable which is leading to quasi complete seperation\n",
    "4. Creating the Confusion Matrix and ROC plot on train data (This is self work/assignment)\n",
    "5. Using mis-classification cost as a criteria to select the best cut-off\n",
    "6. Using Younden Index as the criteria to select the best cut-off\n",
    "7. Creating the Confusion Matrix and ROC plot on test data\n",
    "8. Changing the base or reference category and evaluate the impact on the model\n",
    "\n",
    "There are bugs/missing code in the entire exercise. The participants are expected to work upon them.\n",
    "***\n",
    "***\n",
    "\n",
    "## Here are some useful links:\n",
    "\n",
    "> 1. **[Read](http://www.ats.ucla.edu/stat/mult_pkg/faq/general/dummy.htm)** about interaction variable coding\n",
    "2. Refer **[link](http://www.statmethods.net/input/valuelabels.html)** to know about adding lables to factors\n",
    "3. Refer **[link](http://stackoverflow.com/questions/2342472/recode-relevel-data-frame-factors-with-different-levels)** to relvel factor variables\n",
    "4. **[Read](http://stats.stackexchange.com/questions/88485/variable-is-significant-through-stepwise-regression-but-not-in-final-models-sum)** about the issues in stepwise regression\n",
    "5. **[Read](http://www.ats.ucla.edu/stat/mult_pkg/faq/general/complete_separation_logit_models.htm)** about the issue of Quasi seperation\n",
    "\n",
    "***\n",
    "\n",
    "# Code starts here\n",
    "\n",
    "We are going to use below mentioned libraries for demonstrating logistic regression:\n",
    "\n"
   ]
  },
  {
   "cell_type": "code",
   "execution_count": 1,
   "metadata": {
    "Rmd_chunk_options": "libraries, echo=TRUE, message=FALSE, warning=FALSE",
    "autoscroll": false
   },
   "outputs": [
    {
     "name": "stderr",
     "output_type": "stream",
     "text": [
      "Loading required package: gplots\n",
      "\n",
      "Attaching package: ‘gplots’\n",
      "\n",
      "The following object is masked from ‘package:stats’:\n",
      "\n",
      "    lowess\n",
      "\n",
      "Loading required package: lattice\n",
      "Loading required package: ggplot2\n"
     ]
    }
   ],
   "source": [
    "library(stats)    #for binary logistic without wald statistics\n",
    "#library(Deducer)  #for ROC plot\n",
    "library(ROCR)     #for ROC plot (other way)\n",
    "library(caret)    #for data partition. Model building\n",
    "#library(ResourceSelection) #Hosmer lemeshow GoF test"
   ]
  },
  {
   "cell_type": "markdown",
   "metadata": {},
   "source": [
    "\n",
    "## Data Import and Manipulation\n",
    "\n",
    "### 1. Importing a data set\n",
    "\n",
    "_Give the correct path to the data_\n"
   ]
  },
  {
   "cell_type": "code",
   "execution_count": 2,
   "metadata": {
    "Rmd_chunk_options": "readData, echo=TRUE,tidy=TRUE",
    "autoscroll": false
   },
   "outputs": [],
   "source": [
    "raw_df <- read.csv(\"/Users/Rahul/Documents/Datasets/IMB533_HR_Data_No_Missing_Value.csv\", header = TRUE,sep = \",\",na.strings = c(\"\",\" \", \"NA\"))"
   ]
  },
  {
   "cell_type": "markdown",
   "metadata": {},
   "source": [
    "\n",
    "Note that `echo = FALSE` parameter prevents printing the R code that generated the\n",
    "plot.\n",
    "\n",
    "### 2. Structure and Summary of the dataset\n",
    "\n"
   ]
  },
  {
   "cell_type": "code",
   "execution_count": 3,
   "metadata": {
    "Rmd_chunk_options": "summarizeData, echo=TRUE,tidy=TRUE",
    "autoscroll": false
   },
   "outputs": [
    {
     "name": "stdout",
     "output_type": "stream",
     "text": [
      "'data.frame':\t8995 obs. of  18 variables:\n",
      " $ SLNO                       : int  1 2 3 4 5 6 7 9 11 12 ...\n",
      " $ Candidate.Ref              : int  2110407 2112635 2112838 2115021 2115125 2117167 2119124 2127572 2138169 2143362 ...\n",
      " $ DOJ.Extended               : Factor w/ 2 levels \"No\",\"Yes\": 2 1 1 1 2 2 2 2 1 1 ...\n",
      " $ Duration.to.accept.offer   : int  14 18 3 26 1 17 37 16 1 6 ...\n",
      " $ Notice.period              : int  30 30 45 30 120 30 30 0 30 30 ...\n",
      " $ Offered.band               : Factor w/ 4 levels \"E0\",\"E1\",\"E2\",..: 3 3 3 3 3 2 3 2 2 2 ...\n",
      " $ Pecent.hike.expected.in.CTC: num  -20.8 50 42.8 42.8 42.6 ...\n",
      " $ Percent.hike.offered.in.CTC: num  13.2 320 42.8 42.8 42.6 ...\n",
      " $ Percent.difference.CTC     : num  42.9 180 0 0 0 ...\n",
      " $ Joining.Bonus              : Factor w/ 2 levels \"No\",\"Yes\": 1 1 1 1 1 1 1 1 1 1 ...\n",
      " $ Candidate.relocate.actual  : Factor w/ 2 levels \"No\",\"Yes\": 1 1 1 1 2 1 1 1 1 1 ...\n",
      " $ Gender                     : Factor w/ 2 levels \"Female\",\"Male\": 1 2 2 2 2 2 2 1 1 2 ...\n",
      " $ Candidate.Source           : Factor w/ 3 levels \"Agency\",\"Direct\",..: 1 3 1 3 3 3 3 2 3 3 ...\n",
      " $ Rex.in.Yrs                 : int  7 8 4 4 6 2 7 8 3 3 ...\n",
      " $ LOB                        : Factor w/ 9 levels \"AXON\",\"BFSI\",..: 5 8 8 8 8 8 8 7 2 3 ...\n",
      " $ Location                   : Factor w/ 11 levels \"Ahmedabad\",\"Bangalore\",..: 9 3 9 9 9 9 9 9 5 3 ...\n",
      " $ Age                        : int  34 34 27 34 34 34 32 34 26 34 ...\n",
      " $ Status                     : Factor w/ 2 levels \"Joined\",\"Not Joined\": 1 1 1 1 1 1 1 1 1 1 ...\n"
     ]
    },
    {
     "data": {
      "text/plain": [
       "      SLNO       Candidate.Ref     DOJ.Extended Duration.to.accept.offer\n",
       " Min.   :    1   Min.   :2109586   No :4788     Min.   :  0.00          \n",
       " 1st Qu.: 3208   1st Qu.:2386476   Yes:4207     1st Qu.:  3.00          \n",
       " Median : 5976   Median :2807482                Median : 10.00          \n",
       " Mean   : 5971   Mean   :2843647                Mean   : 21.43          \n",
       " 3rd Qu.: 8739   3rd Qu.:3300060                3rd Qu.: 33.00          \n",
       " Max.   :12333   Max.   :3836076                Max.   :224.00          \n",
       "                                                                        \n",
       " Notice.period    Offered.band Pecent.hike.expected.in.CTC\n",
       " Min.   :  0.00   E0: 211      Min.   :-68.83             \n",
       " 1st Qu.: 30.00   E1:5568      1st Qu.: 27.27             \n",
       " Median : 30.00   E2:2711      Median : 40.00             \n",
       " Mean   : 39.29   E3: 505      Mean   : 43.86             \n",
       " 3rd Qu.: 60.00                3rd Qu.: 53.85             \n",
       " Max.   :120.00                Max.   :359.77             \n",
       "                                                          \n",
       " Percent.hike.offered.in.CTC Percent.difference.CTC Joining.Bonus\n",
       " Min.   :-60.53              Min.   :-67.270        No :8578     \n",
       " 1st Qu.: 22.09              1st Qu.: -8.330        Yes: 417     \n",
       " Median : 36.00              Median :  0.000                     \n",
       " Mean   : 40.66              Mean   : -1.574                     \n",
       " 3rd Qu.: 50.00              3rd Qu.:  0.000                     \n",
       " Max.   :471.43              Max.   :300.000                     \n",
       "                                                                 \n",
       " Candidate.relocate.actual    Gender              Candidate.Source\n",
       " No :7705                  Female:1551   Agency           :2585   \n",
       " Yes:1290                  Male  :7444   Direct           :4801   \n",
       "                                         Employee Referral:1609   \n",
       "                                                                  \n",
       "                                                                  \n",
       "                                                                  \n",
       "                                                                  \n",
       "   Rex.in.Yrs          LOB            Location         Age       \n",
       " Min.   : 0.000   INFRA  :2850   Chennai  :3150   Min.   :20.00  \n",
       " 1st Qu.: 3.000   ERS    :2426   Noida    :2727   1st Qu.:27.00  \n",
       " Median : 4.000   BFSI   :1396   Bangalore:2230   Median :29.00  \n",
       " Mean   : 4.239   ETS    : 691   Hyderabad: 341   Mean   :29.91  \n",
       " 3rd Qu.: 6.000   CSMP   : 579   Mumbai   : 197   3rd Qu.:34.00  \n",
       " Max.   :24.000   AXON   : 568   Gurgaon  : 146   Max.   :60.00  \n",
       "                  (Other): 485   (Other)  : 204                  \n",
       "        Status    \n",
       " Joined    :7313  \n",
       " Not Joined:1682  \n",
       "                  \n",
       "                  \n",
       "                  \n",
       "                  \n",
       "                  "
      ]
     },
     "metadata": {},
     "output_type": "display_data"
    }
   ],
   "source": [
    "str(raw_df)\n",
    "summary(raw_df)"
   ]
  },
  {
   "cell_type": "markdown",
   "metadata": {},
   "source": [
    "\n",
    "\n",
    "Create a new data frame and store the raw data copy. This is being done to have a copy of the raw data intact for further manipulation if needed.\n",
    "\n"
   ]
  },
  {
   "cell_type": "code",
   "execution_count": 4,
   "metadata": {
    "Rmd_chunk_options": "createDataCopy, echo=TRUE,tidy=TRUE",
    "autoscroll": false
   },
   "outputs": [],
   "source": [
    "filter_df <- na.omit(raw_df) # listwise deletion of missing"
   ]
  },
  {
   "cell_type": "markdown",
   "metadata": {},
   "source": [
    "\n",
    "### 3. Relevel\n",
    "\n",
    "By default, the base category/reference category selected is ordered alphabetically. In this data set, Status has two classes (Joined/Not Joined). Since 'J' appears first compared to 'N' in alphabet sequence, So Joined will be marked as the base category.\n",
    "\n",
    "The base category can be releveled using the function **relevel()**.\n",
    "\n"
   ]
  },
  {
   "cell_type": "code",
   "execution_count": 5,
   "metadata": {
    "Rmd_chunk_options": "relevelCategory, echo=TRUE,tidy=TRUE",
    "autoscroll": false
   },
   "outputs": [],
   "source": [
    "#filter_df$Status <- relevel(filter_df$Status, ref = \"Not Joined\")"
   ]
  },
  {
   "cell_type": "markdown",
   "metadata": {},
   "source": [
    "\n",
    "\n",
    "### 4. Create train and test dataset\n",
    "\n",
    "#### Reserve 80% for **_training_** and 20% of **_test_**\n",
    "\n",
    "_Correct the error in the below code chunk_\n"
   ]
  },
  {
   "cell_type": "code",
   "execution_count": 6,
   "metadata": {
    "Rmd_chunk_options": "createDataPartition, echo=TRUE,tidy=TRUE",
    "autoscroll": false
   },
   "outputs": [],
   "source": [
    "#set.seed(2341)\n",
    "trainIndex <- createDataPartition(filter_df$Status, p = 0.80, list = FALSE)\n",
    "train_df <- filter_df[trainIndex,]\n",
    "test_df <- filter_df[-trainIndex,]"
   ]
  },
  {
   "cell_type": "markdown",
   "metadata": {},
   "source": [
    "\n",
    "We can pull the specific attribute needed to build the model is another data frame. This agian is more of a hygine practice to not touch the **train** and **test** data set directly.\n",
    "\n",
    "_Correct the error in the below code chunk_\n"
   ]
  },
  {
   "cell_type": "code",
   "execution_count": 7,
   "metadata": {
    "Rmd_chunk_options": "variableUsedinTraining, echo=TRUE,tidy=TRUE",
    "autoscroll": false
   },
   "outputs": [],
   "source": [
    "lg_train_df <- as.data.frame(train_df[,c(\"DOJ.Extended\",\n",
    "                                             \"Duration.to.accept.offer\",\n",
    "                                             \"Notice.period\",\n",
    "                                             \"Offered.band\",\n",
    "                                             \"Percent.difference.CTC\",\n",
    "                                             \"Joining.Bonus\",\n",
    "                                             #\"Candidate.relocate.actual\",\n",
    "                                             \"Gender\",\n",
    "                                             \"Candidate.Source\",\n",
    "                                             \"Rex.in.Yrs\",\n",
    "                                             \"LOB\",\n",
    "                                             \"Location\",\n",
    "                                             \"Age\",\n",
    "                                             \"Status\"\n",
    ")])"
   ]
  },
  {
   "cell_type": "markdown",
   "metadata": {},
   "source": [
    "\n",
    "_Correct the error in the below code chunk_\n"
   ]
  },
  {
   "cell_type": "code",
   "execution_count": 8,
   "metadata": {
    "Rmd_chunk_options": "variableUsedinTesting, echo=TRUE, tidy=TRUE",
    "autoscroll": false
   },
   "outputs": [],
   "source": [
    "lg_test_df <- as.data.frame(test_df[,c(\"DOJ.Extended\",\n",
    "                                           \"Duration.to.accept.offer\",\n",
    "                                           \"Notice.period\",\n",
    "                                           \"Offered.band\",\n",
    "                                           \"Percent.difference.CTC\",\n",
    "                                           \"Joining.Bonus\",\n",
    "                                           #\"Candidate.relocate.actual\",\n",
    "                                           \"Gender\",\n",
    "                                           \"Candidate.Source\",\n",
    "                                           \"Rex.in.Yrs\",\n",
    "                                           \"LOB\",\n",
    "                                           \"Location\",\n",
    "                                           \"Age\",\n",
    "                                           \"Status\"\n",
    ")])"
   ]
  },
  {
   "cell_type": "markdown",
   "metadata": {},
   "source": [
    "\n",
    "***\n",
    "\n",
    "## Model building: Using the **glm()** function\n",
    "\n",
    "The actual model building starts now. Note that we are demonstrating the strategy of building a step wise model (forward selection and backward elimination)  using the glm function\n",
    "\n"
   ]
  },
  {
   "cell_type": "code",
   "execution_count": 9,
   "metadata": {
    "Rmd_chunk_options": "buildModel, echo=TRUE, message=FALSE, warning=FALSE, tidy=TRUE",
    "autoscroll": false
   },
   "outputs": [],
   "source": [
    "#Null Model\n",
    "no_model <- glm(Status ~ 1,data = lg_train_df, family = binomial)\n",
    "\n",
    "#Full Model\n",
    "lg_full_model = glm(Status ~ .\n",
    "                     , data = lg_train_df, family = binomial)\n",
    "\n",
    "#Stepwise - Forward selection backward elimination\n",
    "lg_stepwise_model <- step(no_model, list(lower = formula(no_model),\n",
    "                                         upper = formula(lg_full_model)),\n",
    "                           direction = \"both\",trace = 0)"
   ]
  },
  {
   "cell_type": "markdown",
   "metadata": {},
   "source": [
    "\n",
    "\n",
    "***\n",
    "\n",
    "## Model Evaluation\n",
    "\n",
    "### 1. ROC plot and Model summary of Train Data\n",
    "\n",
    "Checking the hosmer lemeshow value and the ROC plot using the deducer package. Note that this evaluation is on training data.\n",
    "\n"
   ]
  },
  {
   "cell_type": "code",
   "execution_count": 10,
   "metadata": {
    "Rmd_chunk_options": "modelROC,tidy=TRUE",
    "autoscroll": false
   },
   "outputs": [
    {
     "data": {
      "text/plain": [
       "\n",
       "Call:\n",
       "glm(formula = Status ~ Notice.period + Candidate.Source + LOB + \n",
       "    Offered.band + Age + DOJ.Extended + Location + Rex.in.Yrs, \n",
       "    family = binomial, data = lg_train_df)\n",
       "\n",
       "Deviance Residuals: \n",
       "    Min       1Q   Median       3Q      Max  \n",
       "-1.3858  -0.6805  -0.5411  -0.3650   2.6317  \n",
       "\n",
       "Coefficients:\n",
       "                                    Estimate Std. Error z value Pr(>|z|)    \n",
       "(Intercept)                         1.502206   1.190984   1.261  0.20720    \n",
       "Notice.period                       0.019438   0.001412  13.763  < 2e-16 ***\n",
       "Candidate.SourceDirect             -0.363852   0.072513  -5.018 5.23e-07 ***\n",
       "Candidate.SourceEmployee Referral  -0.727345   0.106219  -6.848 7.51e-12 ***\n",
       "LOBBFSI                            -0.236436   0.147849  -1.599  0.10978    \n",
       "LOBCSMP                            -0.169185   0.171772  -0.985  0.32465    \n",
       "LOBEAS                              0.258771   0.191118   1.354  0.17574    \n",
       "LOBERS                             -0.222430   0.140140  -1.587  0.11247    \n",
       "LOBETS                             -0.398074   0.165985  -2.398  0.01647 *  \n",
       "LOBHealthcare                      -0.243541   0.293452  -0.830  0.40659    \n",
       "LOBINFRA                           -0.647921   0.150935  -4.293 1.76e-05 ***\n",
       "LOBMMS                            -13.528102 262.040559  -0.052  0.95883    \n",
       "Offered.bandE1                     -1.111099   0.210912  -5.268 1.38e-07 ***\n",
       "Offered.bandE2                     -0.956713   0.230529  -4.150 3.32e-05 ***\n",
       "Offered.bandE3                     -1.325883   0.300495  -4.412 1.02e-05 ***\n",
       "Age                                -0.043526   0.010067  -4.324 1.53e-05 ***\n",
       "DOJ.ExtendedYes                    -0.210804   0.066338  -3.178  0.00148 ** \n",
       "LocationBangalore                  -0.824786   1.135248  -0.727  0.46752    \n",
       "LocationChennai                    -0.882537   1.134149  -0.778  0.43648    \n",
       "LocationCochin                     -0.477172   1.565076  -0.305  0.76045    \n",
       "LocationGurgaon                    -0.958347   1.160609  -0.826  0.40896    \n",
       "LocationHyderabad                  -0.925376   1.144502  -0.809  0.41878    \n",
       "LocationKolkata                    -0.831603   1.161814  -0.716  0.47413    \n",
       "LocationMumbai                     -1.235775   1.162911  -1.063  0.28794    \n",
       "LocationNoida                      -1.238730   1.133669  -1.093  0.27454    \n",
       "LocationOthers                    -13.288201 246.360743  -0.054  0.95698    \n",
       "LocationPune                       -0.927047   1.206402  -0.768  0.44223    \n",
       "Rex.in.Yrs                          0.053738   0.021743   2.472  0.01345 *  \n",
       "---\n",
       "Signif. codes:  0 ‘***’ 0.001 ‘**’ 0.01 ‘*’ 0.05 ‘.’ 0.1 ‘ ’ 1\n",
       "\n",
       "(Dispersion parameter for binomial family taken to be 1)\n",
       "\n",
       "    Null deviance: 6936.1  on 7196  degrees of freedom\n",
       "Residual deviance: 6480.0  on 7169  degrees of freedom\n",
       "AIC: 6536\n",
       "\n",
       "Number of Fisher Scoring iterations: 13\n"
      ]
     },
     "metadata": {},
     "output_type": "display_data"
    }
   ],
   "source": [
    "#hoslem.test(lg_stepwise_model$y, fitted(lg_stepwise_model)) #Hosmer lemeshow test\n",
    "#rocplot(lg_stepwise_model)\n",
    "summary(lg_stepwise_model)"
   ]
  },
  {
   "cell_type": "markdown",
   "metadata": {},
   "source": [
    "\n",
    "\n",
    "### 2. The optimal cut-off\n",
    "\n"
   ]
  },
  {
   "cell_type": "code",
   "execution_count": 11,
   "metadata": {
    "Rmd_chunk_options": "variableDeclaration, include=FALSE",
    "autoscroll": false
   },
   "outputs": [],
   "source": [
    "#creating empty vectors to store the results.\n",
    "msclaf_cost <- c()\n",
    "youden_index <- c()\n",
    "cutoff <- c()\n",
    "P11 <- c() #correct classification of positive as positive\n",
    "P00 <- c() #correct classification of negative as negative\n",
    "P10 <- c() #misclassification of positive class to negative class\n",
    "P01 <- c() #misclassification of negative class to positive class"
   ]
  },
  {
   "cell_type": "markdown",
   "metadata": {},
   "source": [
    "\n",
    "#### Select the optimal cut-off value, if:\n",
    "> 1. cost of misclassifying Not Joined as Joined is twice as costly as cost of\n",
    "micalssifying Joined as Not Joined\n",
    "2. both sensitivity and specificity are equally important\n",
    "\n",
    "The best cut-off is the one which minimizes the misclassification cost (in case of **_option 1_**) or which maximizes the Youden's Index (in case of **_Option 2_**). The misclassification cost table is\n",
    "\n",
    "_fix the bug here_: clue is in the above **two options**\n"
   ]
  },
  {
   "cell_type": "code",
   "execution_count": 12,
   "metadata": {
    "Rmd_chunk_options": "modelOptimalCutOff, echo=FALSE,tidy=TRUE",
    "autoscroll": false
   },
   "outputs": [
    {
     "data": {
      "text/plain": [
       "           Joined Non Joined\n",
       "Joined          0          1\n",
       "Non Joined      2          0"
      ]
     },
     "metadata": {},
     "output_type": "display_data"
    }
   ],
   "source": [
    "train_predicted_prob = predict.glm(lg_stepwise_model, lg_train_df, type = \"response\")\n",
    "#variable with all the values as joined\n",
    "n <- length(lg_train_df$Status)\n",
    "\n",
    "costs = matrix(c(0,2,1, 0), ncol = 2)\n",
    "colnames(costs) = rownames(costs) = c(\"Joined\", \"Non Joined\")\n",
    "as.table(costs)"
   ]
  },
  {
   "cell_type": "markdown",
   "metadata": {},
   "source": [
    "\n",
    "The misclassification cost table is:\n"
   ]
  },
  {
   "cell_type": "code",
   "execution_count": 13,
   "metadata": {
    "Rmd_chunk_options": "costCal, echo=TRUE, tidy=TRUE",
    "autoscroll": false
   },
   "outputs": [],
   "source": [
    "# defining log odds in favor of Non Default\n",
    "for (i in seq(0.05, 1, .05)) {\n",
    "  predicted_y = rep(\"Joined\", n)\n",
    "  predicted_y[train_predicted_prob > i] = \"Not Joined\"\n",
    "  tbl <- table(lg_train_df$Status, predicted_y)\n",
    "  if ( i <= 1) {\n",
    "    #Classifying Not Joined as Joined\n",
    "    P10[20*i] <- tbl[2]/(tbl[2] + tbl[4])\n",
    "\n",
    "    P11[20*i] <- tbl[4]/(tbl[2] + tbl[4])\n",
    "\n",
    "    #Classifying Joined as Not Joined\n",
    "    P01[20*i] <- tbl[3]/(tbl[1] + tbl[3])\n",
    "\n",
    "    P00[20*i] <- tbl[1]/(tbl[1] + tbl[3])\n",
    "\n",
    "    cutoff[20*i] <- i\n",
    "    msclaf_cost[20*i] <- P10[20*i]*costs[2] + P01[20*i]*costs[3]\n",
    "    youden_index[20*i] <- P11[20*i] + P00[20*i] - 1\n",
    "  }\n",
    "}\n",
    "df_cost_table <- cbind(cutoff,P10,P01,msclaf_cost, P11, P00, youden_index)"
   ]
  },
  {
   "cell_type": "markdown",
   "metadata": {},
   "source": [
    "\n",
    "The table summarizing the optimal cut-off value:\n",
    "\n",
    "_write the cost.table into a csv file_\n"
   ]
  },
  {
   "cell_type": "code",
   "execution_count": 14,
   "metadata": {
    "Rmd_chunk_options": "modelOptimalCutoffTable, echo=FALSE",
    "autoscroll": false
   },
   "outputs": [
    {
     "data": {
      "text/html": [
       "<table>\n",
       "<thead><tr><th scope=col>cutoff</th><th scope=col>P10</th><th scope=col>P01</th><th scope=col>msclaf_cost</th><th scope=col>P11</th><th scope=col>P00</th><th scope=col>youden_index</th></tr></thead>\n",
       "<tbody>\n",
       "\t<tr><td>0.05         </td><td>0.008172363  </td><td>0.9659887199 </td><td>0.9823334    </td><td>0.991827637  </td><td>0.03401128   </td><td> 0.0258389176</td></tr>\n",
       "\t<tr><td>0.10         </td><td>0.074294205  </td><td>0.7814048881 </td><td>0.9299933    </td><td>0.925705795  </td><td>0.21859511   </td><td> 0.1443009069</td></tr>\n",
       "\t<tr><td>0.15         </td><td>0.217682021  </td><td>0.5510169202 </td><td>0.9863810    </td><td>0.782317979  </td><td>0.44898308   </td><td> 0.2313010590</td></tr>\n",
       "\t<tr><td>0.20         </td><td>0.416047548  </td><td>0.3310545206 </td><td>1.1631496    </td><td>0.583952452  </td><td>0.66894548   </td><td> 0.2528979311</td></tr>\n",
       "\t<tr><td>0.25         </td><td>0.598811293  </td><td>0.1762091950 </td><td>1.3738318    </td><td>0.401188707  </td><td>0.82379080   </td><td> 0.2249795123</td></tr>\n",
       "\t<tr><td>0.30         </td><td>0.751114413  </td><td>0.0924628269 </td><td>1.5946917    </td><td>0.248885587  </td><td>0.90753717   </td><td> 0.1564227601</td></tr>\n",
       "\t<tr><td>0.35         </td><td>0.852897474  </td><td>0.0493932661 </td><td>1.7551882    </td><td>0.147102526  </td><td>0.95060673   </td><td> 0.0977092599</td></tr>\n",
       "\t<tr><td>0.40         </td><td>0.901931649  </td><td>0.0249529995 </td><td>1.8288163    </td><td>0.098068351  </td><td>0.97504700   </td><td> 0.0731153512</td></tr>\n",
       "\t<tr><td>0.45         </td><td>0.937592868  </td><td>0.0145274312 </td><td>1.8897132    </td><td>0.062407132  </td><td>0.98547257   </td><td> 0.0478797010</td></tr>\n",
       "\t<tr><td>0.50         </td><td>0.970282318  </td><td>0.0059818834 </td><td>1.9465465    </td><td>0.029717682  </td><td>0.99401812   </td><td> 0.0237357986</td></tr>\n",
       "\t<tr><td>0.55         </td><td>0.992570579  </td><td>0.0023927534 </td><td>1.9875339    </td><td>0.007429421  </td><td>0.99760725   </td><td> 0.0050366671</td></tr>\n",
       "\t<tr><td>0.60         </td><td>1.000000000  </td><td>0.0003418219 </td><td>2.0003418    </td><td>0.000000000  </td><td>0.99965818   </td><td>-0.0003418219</td></tr>\n",
       "\t<tr><td>0.65         </td><td>         NA  </td><td>          NA </td><td>       NA    </td><td>         NA  </td><td>        NA   </td><td>           NA</td></tr>\n",
       "\t<tr><td>0.70         </td><td>         NA  </td><td>          NA </td><td>       NA    </td><td>         NA  </td><td>        NA   </td><td>           NA</td></tr>\n",
       "\t<tr><td>0.75         </td><td>         NA  </td><td>          NA </td><td>       NA    </td><td>         NA  </td><td>        NA   </td><td>           NA</td></tr>\n",
       "\t<tr><td>0.80         </td><td>         NA  </td><td>          NA </td><td>       NA    </td><td>         NA  </td><td>        NA   </td><td>           NA</td></tr>\n",
       "\t<tr><td>0.85         </td><td>         NA  </td><td>          NA </td><td>       NA    </td><td>         NA  </td><td>        NA   </td><td>           NA</td></tr>\n",
       "\t<tr><td>0.90         </td><td>         NA  </td><td>          NA </td><td>       NA    </td><td>         NA  </td><td>        NA   </td><td>           NA</td></tr>\n",
       "\t<tr><td>0.95         </td><td>         NA  </td><td>          NA </td><td>       NA    </td><td>         NA  </td><td>        NA   </td><td>           NA</td></tr>\n",
       "\t<tr><td>1.00         </td><td>         NA  </td><td>          NA </td><td>       NA    </td><td>         NA  </td><td>        NA   </td><td>           NA</td></tr>\n",
       "</tbody>\n",
       "</table>\n"
      ],
      "text/latex": [
       "\\begin{tabular}{lllllll}\n",
       " cutoff & P10 & P01 & msclaf\\_cost & P11 & P00 & youden\\_index\\\\\n",
       "\\hline\n",
       "\t 0.05          & 0.008172363   & 0.9659887199  & 0.9823334     & 0.991827637   & 0.03401128    &  0.0258389176\\\\\n",
       "\t 0.10          & 0.074294205   & 0.7814048881  & 0.9299933     & 0.925705795   & 0.21859511    &  0.1443009069\\\\\n",
       "\t 0.15          & 0.217682021   & 0.5510169202  & 0.9863810     & 0.782317979   & 0.44898308    &  0.2313010590\\\\\n",
       "\t 0.20          & 0.416047548   & 0.3310545206  & 1.1631496     & 0.583952452   & 0.66894548    &  0.2528979311\\\\\n",
       "\t 0.25          & 0.598811293   & 0.1762091950  & 1.3738318     & 0.401188707   & 0.82379080    &  0.2249795123\\\\\n",
       "\t 0.30          & 0.751114413   & 0.0924628269  & 1.5946917     & 0.248885587   & 0.90753717    &  0.1564227601\\\\\n",
       "\t 0.35          & 0.852897474   & 0.0493932661  & 1.7551882     & 0.147102526   & 0.95060673    &  0.0977092599\\\\\n",
       "\t 0.40          & 0.901931649   & 0.0249529995  & 1.8288163     & 0.098068351   & 0.97504700    &  0.0731153512\\\\\n",
       "\t 0.45          & 0.937592868   & 0.0145274312  & 1.8897132     & 0.062407132   & 0.98547257    &  0.0478797010\\\\\n",
       "\t 0.50          & 0.970282318   & 0.0059818834  & 1.9465465     & 0.029717682   & 0.99401812    &  0.0237357986\\\\\n",
       "\t 0.55          & 0.992570579   & 0.0023927534  & 1.9875339     & 0.007429421   & 0.99760725    &  0.0050366671\\\\\n",
       "\t 0.60          & 1.000000000   & 0.0003418219  & 2.0003418     & 0.000000000   & 0.99965818    & -0.0003418219\\\\\n",
       "\t 0.65          &          NA   &           NA  &        NA     &          NA   &         NA    &            NA\\\\\n",
       "\t 0.70          &          NA   &           NA  &        NA     &          NA   &         NA    &            NA\\\\\n",
       "\t 0.75          &          NA   &           NA  &        NA     &          NA   &         NA    &            NA\\\\\n",
       "\t 0.80          &          NA   &           NA  &        NA     &          NA   &         NA    &            NA\\\\\n",
       "\t 0.85          &          NA   &           NA  &        NA     &          NA   &         NA    &            NA\\\\\n",
       "\t 0.90          &          NA   &           NA  &        NA     &          NA   &         NA    &            NA\\\\\n",
       "\t 0.95          &          NA   &           NA  &        NA     &          NA   &         NA    &            NA\\\\\n",
       "\t 1.00          &          NA   &           NA  &        NA     &          NA   &         NA    &            NA\\\\\n",
       "\\end{tabular}\n"
      ],
      "text/markdown": [
       "\n",
       "cutoff | P10 | P01 | msclaf_cost | P11 | P00 | youden_index | \n",
       "|---|---|---|---|---|---|---|---|---|---|---|---|---|---|---|---|---|---|---|---|\n",
       "| 0.05          | 0.008172363   | 0.9659887199  | 0.9823334     | 0.991827637   | 0.03401128    |  0.0258389176 | \n",
       "| 0.10          | 0.074294205   | 0.7814048881  | 0.9299933     | 0.925705795   | 0.21859511    |  0.1443009069 | \n",
       "| 0.15          | 0.217682021   | 0.5510169202  | 0.9863810     | 0.782317979   | 0.44898308    |  0.2313010590 | \n",
       "| 0.20          | 0.416047548   | 0.3310545206  | 1.1631496     | 0.583952452   | 0.66894548    |  0.2528979311 | \n",
       "| 0.25          | 0.598811293   | 0.1762091950  | 1.3738318     | 0.401188707   | 0.82379080    |  0.2249795123 | \n",
       "| 0.30          | 0.751114413   | 0.0924628269  | 1.5946917     | 0.248885587   | 0.90753717    |  0.1564227601 | \n",
       "| 0.35          | 0.852897474   | 0.0493932661  | 1.7551882     | 0.147102526   | 0.95060673    |  0.0977092599 | \n",
       "| 0.40          | 0.901931649   | 0.0249529995  | 1.8288163     | 0.098068351   | 0.97504700    |  0.0731153512 | \n",
       "| 0.45          | 0.937592868   | 0.0145274312  | 1.8897132     | 0.062407132   | 0.98547257    |  0.0478797010 | \n",
       "| 0.50          | 0.970282318   | 0.0059818834  | 1.9465465     | 0.029717682   | 0.99401812    |  0.0237357986 | \n",
       "| 0.55          | 0.992570579   | 0.0023927534  | 1.9875339     | 0.007429421   | 0.99760725    |  0.0050366671 | \n",
       "| 0.60          | 1.000000000   | 0.0003418219  | 2.0003418     | 0.000000000   | 0.99965818    | -0.0003418219 | \n",
       "| 0.65          |          NA   |           NA  |        NA     |          NA   |         NA    |            NA | \n",
       "| 0.70          |          NA   |           NA  |        NA     |          NA   |         NA    |            NA | \n",
       "| 0.75          |          NA   |           NA  |        NA     |          NA   |         NA    |            NA | \n",
       "| 0.80          |          NA   |           NA  |        NA     |          NA   |         NA    |            NA | \n",
       "| 0.85          |          NA   |           NA  |        NA     |          NA   |         NA    |            NA | \n",
       "| 0.90          |          NA   |           NA  |        NA     |          NA   |         NA    |            NA | \n",
       "| 0.95          |          NA   |           NA  |        NA     |          NA   |         NA    |            NA | \n",
       "| 1.00          |          NA   |           NA  |        NA     |          NA   |         NA    |            NA | \n",
       "\n",
       "\n"
      ],
      "text/plain": [
       "      cutoff P10         P01          msclaf_cost P11         P00       \n",
       " [1,] 0.05   0.008172363 0.9659887199 0.9823334   0.991827637 0.03401128\n",
       " [2,] 0.10   0.074294205 0.7814048881 0.9299933   0.925705795 0.21859511\n",
       " [3,] 0.15   0.217682021 0.5510169202 0.9863810   0.782317979 0.44898308\n",
       " [4,] 0.20   0.416047548 0.3310545206 1.1631496   0.583952452 0.66894548\n",
       " [5,] 0.25   0.598811293 0.1762091950 1.3738318   0.401188707 0.82379080\n",
       " [6,] 0.30   0.751114413 0.0924628269 1.5946917   0.248885587 0.90753717\n",
       " [7,] 0.35   0.852897474 0.0493932661 1.7551882   0.147102526 0.95060673\n",
       " [8,] 0.40   0.901931649 0.0249529995 1.8288163   0.098068351 0.97504700\n",
       " [9,] 0.45   0.937592868 0.0145274312 1.8897132   0.062407132 0.98547257\n",
       "[10,] 0.50   0.970282318 0.0059818834 1.9465465   0.029717682 0.99401812\n",
       "[11,] 0.55   0.992570579 0.0023927534 1.9875339   0.007429421 0.99760725\n",
       "[12,] 0.60   1.000000000 0.0003418219 2.0003418   0.000000000 0.99965818\n",
       "[13,] 0.65            NA           NA        NA            NA         NA\n",
       "[14,] 0.70            NA           NA        NA            NA         NA\n",
       "[15,] 0.75            NA           NA        NA            NA         NA\n",
       "[16,] 0.80            NA           NA        NA            NA         NA\n",
       "[17,] 0.85            NA           NA        NA            NA         NA\n",
       "[18,] 0.90            NA           NA        NA            NA         NA\n",
       "[19,] 0.95            NA           NA        NA            NA         NA\n",
       "[20,] 1.00            NA           NA        NA            NA         NA\n",
       "      youden_index \n",
       " [1,]  0.0258389176\n",
       " [2,]  0.1443009069\n",
       " [3,]  0.2313010590\n",
       " [4,]  0.2528979311\n",
       " [5,]  0.2249795123\n",
       " [6,]  0.1564227601\n",
       " [7,]  0.0977092599\n",
       " [8,]  0.0731153512\n",
       " [9,]  0.0478797010\n",
       "[10,]  0.0237357986\n",
       "[11,]  0.0050366671\n",
       "[12,] -0.0003418219\n",
       "[13,]            NA\n",
       "[14,]            NA\n",
       "[15,]            NA\n",
       "[16,]            NA\n",
       "[17,]            NA\n",
       "[18,]            NA\n",
       "[19,]            NA\n",
       "[20,]            NA"
      ]
     },
     "metadata": {},
     "output_type": "display_data"
    }
   ],
   "source": [
    "df_cost_table\n",
    "#write.csv(df_cost_table, \"Optimal_Cutoff_stats.csv\")"
   ]
  },
  {
   "cell_type": "markdown",
   "metadata": {},
   "source": [
    "\n",
    "\n",
    "### 3. Confusion Matrix on the test data\n",
    "\n",
    "The **predict** function is used to get the predicted probability on the new dataset. The probability value along with the optimal cut-off can be used to build confusion matrix\n",
    "\n"
   ]
  },
  {
   "cell_type": "code",
   "execution_count": 15,
   "metadata": {
    "Rmd_chunk_options": "modelValidation, echo=FALSE,tidy=TRUE",
    "autoscroll": false
   },
   "outputs": [
    {
     "data": {
      "text/html": [
       "<table>\n",
       "<thead><tr><th></th><th scope=col>Joined</th><th scope=col>Not Joined</th><th scope=col>Sum</th></tr></thead>\n",
       "<tbody>\n",
       "\t<tr><th scope=row>Joined</th><td>359 </td><td>1103</td><td>1462</td></tr>\n",
       "\t<tr><th scope=row>Not Joined</th><td> 28 </td><td> 308</td><td> 336</td></tr>\n",
       "\t<tr><th scope=row>Sum</th><td>387 </td><td>1411</td><td>1798</td></tr>\n",
       "</tbody>\n",
       "</table>\n"
      ],
      "text/latex": [
       "\\begin{tabular}{r|lll}\n",
       "  & Joined & Not Joined & Sum\\\\\n",
       "\\hline\n",
       "\tJoined & 359  & 1103 & 1462\\\\\n",
       "\tNot Joined &  28  &  308 &  336\\\\\n",
       "\tSum & 387  & 1411 & 1798\\\\\n",
       "\\end{tabular}\n"
      ],
      "text/markdown": [
       "\n",
       "| <!--/--> | Joined | Not Joined | Sum | \n",
       "|---|---|---|\n",
       "| Joined | 359  | 1103 | 1462 | \n",
       "| Not Joined |  28  |  308 |  336 | \n",
       "| Sum | 387  | 1411 | 1798 | \n",
       "\n",
       "\n"
      ],
      "text/plain": [
       "            \n",
       "             Joined Not Joined Sum \n",
       "  Joined     359    1103       1462\n",
       "  Not Joined  28     308        336\n",
       "  Sum        387    1411       1798"
      ]
     },
     "metadata": {},
     "output_type": "display_data"
    },
    {
     "data": {
      "text/html": [
       "0.370967741935484"
      ],
      "text/latex": [
       "0.370967741935484"
      ],
      "text/markdown": [
       "0.370967741935484"
      ],
      "text/plain": [
       "[1] 0.3709677"
      ]
     },
     "metadata": {},
     "output_type": "display_data"
    }
   ],
   "source": [
    "test_predicted_prob = predict(lg_stepwise_model, lg_test_df, type = \"response\")\n",
    "\n",
    "#variable with all the values as joined\n",
    "n <- length(lg_test_df$Status)\n",
    "predicted_y = rep(\"Joined\", n)\n",
    "\n",
    "# defining log odds in favor of not joining\n",
    "predicted_y[test_predicted_prob > 0.10] = \"Not Joined\"\n",
    "\n",
    "#add the model_precition in the data\n",
    "lg_test_df$predicted_y <- predicted_y\n",
    "\n",
    "###Create the confusionmatrix###\n",
    "addmargins(table(lg_test_df$Status, lg_test_df$predicted_y))\n",
    "mean(lg_test_df$predicted_y == lg_test_df$Status)"
   ]
  },
  {
   "cell_type": "markdown",
   "metadata": {},
   "source": [
    "\n",
    "\n",
    "### 4. ROC Plot on the test data\n",
    "\n",
    "ROCR package can be used to evaluate the model performace on the test data. The same package can also be used to get the model performace on the test data.\n",
    "\n"
   ]
  },
  {
   "cell_type": "code",
   "execution_count": 16,
   "metadata": {
    "Rmd_chunk_options": "validationROC, echo=FALSE,tidy=TRUE",
    "autoscroll": false
   },
   "outputs": [
    {
     "data": {
      "text/plain": [
       "An object of class \"performance\"\n",
       "Slot \"x.name\":\n",
       "[1] \"None\"\n",
       "\n",
       "Slot \"y.name\":\n",
       "[1] \"Area under the ROC curve\"\n",
       "\n",
       "Slot \"alpha.name\":\n",
       "[1] \"none\"\n",
       "\n",
       "Slot \"x.values\":\n",
       "list()\n",
       "\n",
       "Slot \"y.values\":\n",
       "[[1]]\n",
       "[1] 0.7136119\n",
       "\n",
       "\n",
       "Slot \"alpha.values\":\n",
       "list()\n"
      ]
     },
     "metadata": {},
     "output_type": "display_data"
    },
    {
     "data": {
      "image/png": "[encoded data removed]",
      "text/plain": [
       "Plot with title “ROC Curve”"
      ]
     },
     "metadata": {},
     "output_type": "display_data"
    }
   ],
   "source": [
    "lgPredObj <- prediction(test_predicted_prob,lg_test_df$Status)\n",
    "lgPerfObj <- performance(lgPredObj, \"tpr\",\"fpr\")\n",
    "plot(lgPerfObj,ylim=c(0.1, 1), main = \"ROC Curve\",col = 2,lwd = 2)\n",
    "abline(a = 0,b = 1,lwd = 2,lty = 3,col = \"black\")\n",
    "performance(lgPredObj, \"auc\")"
   ]
  },
  {
   "cell_type": "markdown",
   "metadata": {},
   "source": [
    "\n",
    "\n",
    "#### End of Document\n",
    "\n",
    "***\n",
    "***\n"
   ]
  }
 ],
 "metadata": {
  "Rmd_header": {
   "author": "Kumar Rahul",
   "output": "word_document",
   "title": "Logistic Regression Using R"
  },
  "kernelspec": {
   "display_name": "R",
   "language": "R",
   "name": "ir"
  },
  "language_info": {
   "codemirror_mode": "r",
   "file_extension": ".r",
   "mimetype": "text/x-r-source",
   "name": "R",
   "pygments_lexer": "r",
   "version": "3.4.3"
  }
 },
 "nbformat": 4,
 "nbformat_minor": 1
}
